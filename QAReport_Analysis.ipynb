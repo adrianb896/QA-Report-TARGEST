{
  "nbformat": 4,
  "nbformat_minor": 0,
  "metadata": {
    "colab": {
      "provenance": [],
      "authorship_tag": "ABX9TyOsHRYNFeucT4cqRhqw17D2",
      "include_colab_link": true
    },
    "kernelspec": {
      "name": "python3",
      "display_name": "Python 3"
    },
    "language_info": {
      "name": "python"
    }
  },
  "cells": [
    {
      "cell_type": "markdown",
      "metadata": {
        "id": "view-in-github",
        "colab_type": "text"
      },
      "source": [
        "<a href=\"https://colab.research.google.com/github/adrianb896/QA-Report-TARGEST/blob/main/QAReport_Analysis.ipynb\" target=\"_parent\"><img src=\"https://colab.research.google.com/assets/colab-badge.svg\" alt=\"Open In Colab\"/></a>"
      ]
    },
    {
      "cell_type": "markdown",
      "source": [
        "# ***QA Report and Lifecycle for Requirement Tracing data***"
      ],
      "metadata": {
        "id": "RKWhpd6fib3P"
      }
    },
    {
      "cell_type": "code",
      "source": [
        "import pandas as pd"
      ],
      "metadata": {
        "id": "LOb8zOwAKEpL"
      },
      "execution_count": 293,
      "outputs": []
    },
    {
      "cell_type": "code",
      "source": [
        "from google.colab import drive\n",
        "drive.mount('/content/gdrive')"
      ],
      "metadata": {
        "colab": {
          "base_uri": "https://localhost:8080/"
        },
        "id": "R1vohHEwK_nL",
        "outputId": "1a70508b-a2ac-47e0-a4f9-fb269c90a168"
      },
      "execution_count": 294,
      "outputs": [
        {
          "output_type": "stream",
          "name": "stdout",
          "text": [
            "Drive already mounted at /content/gdrive; to attempt to forcibly remount, call drive.mount(\"/content/gdrive\", force_remount=True).\n"
          ]
        }
      ]
    },
    {
      "cell_type": "markdown",
      "source": [
        "**Exploratory Question:**\n",
        "* What are the key requirements that need to be traced? \n",
        "* How are the requirements being documented and tracked?\n",
        "\n",
        "**Predictive Question:**\n",
        "* What is the likelihood of a requirement being missed or not met?\n",
        "* How can we predict and prevent requirement-related issues?\n"
      ],
      "metadata": {
        "id": "nC9__MIMYcQc"
      }
    },
    {
      "cell_type": "code",
      "source": [
        "df = pd.read_excel('gdrive/MyDrive/exceltest/QAReport.xlsx')\n",
        "df.head(10)"
      ],
      "metadata": {
        "colab": {
          "base_uri": "https://localhost:8080/",
          "height": 597
        },
        "id": "oNuhtslbkhos",
        "outputId": "b6a95b6b-88aa-40ad-c5c1-f6db9fe5b9c0"
      },
      "execution_count": 295,
      "outputs": [
        {
          "output_type": "execute_result",
          "data": {
            "text/plain": [
              "   Unnamed: 0      Child Tag  \\\n",
              "0           0   PUMP:HRD:100   \n",
              "1           1   PUMP:HRD:105   \n",
              "2           2  PUMP:HRD:1000   \n",
              "3           3  PUMP:HRD:3330   \n",
              "4           4  PUMP:HRD:3350   \n",
              "5           5   PUMP:HRS:100   \n",
              "6           6   PUMP:HRS:105   \n",
              "7           7  PUMP:HRS:1000   \n",
              "8           8  PUMP:HRS:3330   \n",
              "9           9  PUMP:HRS:3340   \n",
              "\n",
              "                                                Text  Unnamed: 3  \\\n",
              "0  Details regarding the rechargeable Lithium Pol...           0   \n",
              "1  Details regarding the fuel gauge hardware for ...           1   \n",
              "2  Details regarding the pressure sensors for use...           2   \n",
              "3  Details regarding the size and weight of the p...           3   \n",
              "4     Details regarding the full color touchscreen.            4   \n",
              "5  The pump shall include a rechargeable Lithium ...           5   \n",
              "6  The pump shall include fuel gauge hardware for...           6   \n",
              "7  The pump shall include pressure sensors for us...           7   \n",
              "8  The pump shall weight no more than 8 ounces dry.            8   \n",
              "9  The pump shall fit within a volume of 3” by 2”...           9   \n",
              "\n",
              "     Child Tag.1       Parent Tag  Unnamed: 6    Orphan Tags  Unnamed: 8  \\\n",
              "0   PUMP:HRD:100   [PUMP:HRS:100]         0.0  PUMP:RISK:10          0.0   \n",
              "1   PUMP:HRD:105   [PUMP:HRS:103]         1.0  PUMP:RISK:20          1.0   \n",
              "2  PUMP:HRD:1000  [PUMP:HRS:1000]         2.0  PUMP:RISK:30          2.0   \n",
              "3  PUMP:HRD:3330  [PUMP:HRS:3330]         3.0  PUMP:RISK:40          3.0   \n",
              "4  PUMP:HRD:3350  [PUMP:HRS:3350]         4.0  PUMP:RISK:50          4.0   \n",
              "5   PUMP:HRS:100   [PUMP:PRS:100]         5.0    PUMP:URS:1          5.0   \n",
              "6   PUMP:HRS:105   [PUMP:PRS:103]         6.0    PUMP:URS:3          6.0   \n",
              "7  PUMP:HRS:1000  [PUMP:PRS:1000]         7.0    PUMP:URS:8          7.0   \n",
              "8  PUMP:HRS:3330  [PUMP:PRS:3330]         8.0   PUMP:URS:10          8.0   \n",
              "9  PUMP:HRS:3340  [PUMP:PRS:3330]         9.0  PUMP:URS:100          9.0   \n",
              "\n",
              "  Childless Tags  Unnamed: 10      TBV Tags  Unnamed: 12      TBD Tags  \n",
              "0  PUMP:HRS:3340          0.0  [PUMP:TBV:1]          0.0  [PUMP:TBD:1]  \n",
              "1   PUMP:HTR:100          NaN           NaN          NaN           NaN  \n",
              "2  PUMP:HTR:1100          NaN           NaN          NaN           NaN  \n",
              "3  PUMP:HTR:1200          NaN           NaN          NaN           NaN  \n",
              "4  PUMP:HTR:1300          NaN           NaN          NaN           NaN  \n",
              "5  PUMP:HTR:1400          NaN           NaN          NaN           NaN  \n",
              "6  PUMP:HTR:1500          NaN           NaN          NaN           NaN  \n",
              "7   PUMP:HTR:200          NaN           NaN          NaN           NaN  \n",
              "8   PUMP:HTR:300          NaN           NaN          NaN           NaN  \n",
              "9   PUMP:HTR:400          NaN           NaN          NaN           NaN  "
            ],
            "text/html": [
              "\n",
              "  <div id=\"df-58950556-7d6e-4d5e-81f9-d15cb1fb8d79\">\n",
              "    <div class=\"colab-df-container\">\n",
              "      <div>\n",
              "<style scoped>\n",
              "    .dataframe tbody tr th:only-of-type {\n",
              "        vertical-align: middle;\n",
              "    }\n",
              "\n",
              "    .dataframe tbody tr th {\n",
              "        vertical-align: top;\n",
              "    }\n",
              "\n",
              "    .dataframe thead th {\n",
              "        text-align: right;\n",
              "    }\n",
              "</style>\n",
              "<table border=\"1\" class=\"dataframe\">\n",
              "  <thead>\n",
              "    <tr style=\"text-align: right;\">\n",
              "      <th></th>\n",
              "      <th>Unnamed: 0</th>\n",
              "      <th>Child Tag</th>\n",
              "      <th>Text</th>\n",
              "      <th>Unnamed: 3</th>\n",
              "      <th>Child Tag.1</th>\n",
              "      <th>Parent Tag</th>\n",
              "      <th>Unnamed: 6</th>\n",
              "      <th>Orphan Tags</th>\n",
              "      <th>Unnamed: 8</th>\n",
              "      <th>Childless Tags</th>\n",
              "      <th>Unnamed: 10</th>\n",
              "      <th>TBV Tags</th>\n",
              "      <th>Unnamed: 12</th>\n",
              "      <th>TBD Tags</th>\n",
              "    </tr>\n",
              "  </thead>\n",
              "  <tbody>\n",
              "    <tr>\n",
              "      <th>0</th>\n",
              "      <td>0</td>\n",
              "      <td>PUMP:HRD:100</td>\n",
              "      <td>Details regarding the rechargeable Lithium Pol...</td>\n",
              "      <td>0</td>\n",
              "      <td>PUMP:HRD:100</td>\n",
              "      <td>[PUMP:HRS:100]</td>\n",
              "      <td>0.0</td>\n",
              "      <td>PUMP:RISK:10</td>\n",
              "      <td>0.0</td>\n",
              "      <td>PUMP:HRS:3340</td>\n",
              "      <td>0.0</td>\n",
              "      <td>[PUMP:TBV:1]</td>\n",
              "      <td>0.0</td>\n",
              "      <td>[PUMP:TBD:1]</td>\n",
              "    </tr>\n",
              "    <tr>\n",
              "      <th>1</th>\n",
              "      <td>1</td>\n",
              "      <td>PUMP:HRD:105</td>\n",
              "      <td>Details regarding the fuel gauge hardware for ...</td>\n",
              "      <td>1</td>\n",
              "      <td>PUMP:HRD:105</td>\n",
              "      <td>[PUMP:HRS:103]</td>\n",
              "      <td>1.0</td>\n",
              "      <td>PUMP:RISK:20</td>\n",
              "      <td>1.0</td>\n",
              "      <td>PUMP:HTR:100</td>\n",
              "      <td>NaN</td>\n",
              "      <td>NaN</td>\n",
              "      <td>NaN</td>\n",
              "      <td>NaN</td>\n",
              "    </tr>\n",
              "    <tr>\n",
              "      <th>2</th>\n",
              "      <td>2</td>\n",
              "      <td>PUMP:HRD:1000</td>\n",
              "      <td>Details regarding the pressure sensors for use...</td>\n",
              "      <td>2</td>\n",
              "      <td>PUMP:HRD:1000</td>\n",
              "      <td>[PUMP:HRS:1000]</td>\n",
              "      <td>2.0</td>\n",
              "      <td>PUMP:RISK:30</td>\n",
              "      <td>2.0</td>\n",
              "      <td>PUMP:HTR:1100</td>\n",
              "      <td>NaN</td>\n",
              "      <td>NaN</td>\n",
              "      <td>NaN</td>\n",
              "      <td>NaN</td>\n",
              "    </tr>\n",
              "    <tr>\n",
              "      <th>3</th>\n",
              "      <td>3</td>\n",
              "      <td>PUMP:HRD:3330</td>\n",
              "      <td>Details regarding the size and weight of the p...</td>\n",
              "      <td>3</td>\n",
              "      <td>PUMP:HRD:3330</td>\n",
              "      <td>[PUMP:HRS:3330]</td>\n",
              "      <td>3.0</td>\n",
              "      <td>PUMP:RISK:40</td>\n",
              "      <td>3.0</td>\n",
              "      <td>PUMP:HTR:1200</td>\n",
              "      <td>NaN</td>\n",
              "      <td>NaN</td>\n",
              "      <td>NaN</td>\n",
              "      <td>NaN</td>\n",
              "    </tr>\n",
              "    <tr>\n",
              "      <th>4</th>\n",
              "      <td>4</td>\n",
              "      <td>PUMP:HRD:3350</td>\n",
              "      <td>Details regarding the full color touchscreen.</td>\n",
              "      <td>4</td>\n",
              "      <td>PUMP:HRD:3350</td>\n",
              "      <td>[PUMP:HRS:3350]</td>\n",
              "      <td>4.0</td>\n",
              "      <td>PUMP:RISK:50</td>\n",
              "      <td>4.0</td>\n",
              "      <td>PUMP:HTR:1300</td>\n",
              "      <td>NaN</td>\n",
              "      <td>NaN</td>\n",
              "      <td>NaN</td>\n",
              "      <td>NaN</td>\n",
              "    </tr>\n",
              "    <tr>\n",
              "      <th>5</th>\n",
              "      <td>5</td>\n",
              "      <td>PUMP:HRS:100</td>\n",
              "      <td>The pump shall include a rechargeable Lithium ...</td>\n",
              "      <td>5</td>\n",
              "      <td>PUMP:HRS:100</td>\n",
              "      <td>[PUMP:PRS:100]</td>\n",
              "      <td>5.0</td>\n",
              "      <td>PUMP:URS:1</td>\n",
              "      <td>5.0</td>\n",
              "      <td>PUMP:HTR:1400</td>\n",
              "      <td>NaN</td>\n",
              "      <td>NaN</td>\n",
              "      <td>NaN</td>\n",
              "      <td>NaN</td>\n",
              "    </tr>\n",
              "    <tr>\n",
              "      <th>6</th>\n",
              "      <td>6</td>\n",
              "      <td>PUMP:HRS:105</td>\n",
              "      <td>The pump shall include fuel gauge hardware for...</td>\n",
              "      <td>6</td>\n",
              "      <td>PUMP:HRS:105</td>\n",
              "      <td>[PUMP:PRS:103]</td>\n",
              "      <td>6.0</td>\n",
              "      <td>PUMP:URS:3</td>\n",
              "      <td>6.0</td>\n",
              "      <td>PUMP:HTR:1500</td>\n",
              "      <td>NaN</td>\n",
              "      <td>NaN</td>\n",
              "      <td>NaN</td>\n",
              "      <td>NaN</td>\n",
              "    </tr>\n",
              "    <tr>\n",
              "      <th>7</th>\n",
              "      <td>7</td>\n",
              "      <td>PUMP:HRS:1000</td>\n",
              "      <td>The pump shall include pressure sensors for us...</td>\n",
              "      <td>7</td>\n",
              "      <td>PUMP:HRS:1000</td>\n",
              "      <td>[PUMP:PRS:1000]</td>\n",
              "      <td>7.0</td>\n",
              "      <td>PUMP:URS:8</td>\n",
              "      <td>7.0</td>\n",
              "      <td>PUMP:HTR:200</td>\n",
              "      <td>NaN</td>\n",
              "      <td>NaN</td>\n",
              "      <td>NaN</td>\n",
              "      <td>NaN</td>\n",
              "    </tr>\n",
              "    <tr>\n",
              "      <th>8</th>\n",
              "      <td>8</td>\n",
              "      <td>PUMP:HRS:3330</td>\n",
              "      <td>The pump shall weight no more than 8 ounces dry.</td>\n",
              "      <td>8</td>\n",
              "      <td>PUMP:HRS:3330</td>\n",
              "      <td>[PUMP:PRS:3330]</td>\n",
              "      <td>8.0</td>\n",
              "      <td>PUMP:URS:10</td>\n",
              "      <td>8.0</td>\n",
              "      <td>PUMP:HTR:300</td>\n",
              "      <td>NaN</td>\n",
              "      <td>NaN</td>\n",
              "      <td>NaN</td>\n",
              "      <td>NaN</td>\n",
              "    </tr>\n",
              "    <tr>\n",
              "      <th>9</th>\n",
              "      <td>9</td>\n",
              "      <td>PUMP:HRS:3340</td>\n",
              "      <td>The pump shall fit within a volume of 3” by 2”...</td>\n",
              "      <td>9</td>\n",
              "      <td>PUMP:HRS:3340</td>\n",
              "      <td>[PUMP:PRS:3330]</td>\n",
              "      <td>9.0</td>\n",
              "      <td>PUMP:URS:100</td>\n",
              "      <td>9.0</td>\n",
              "      <td>PUMP:HTR:400</td>\n",
              "      <td>NaN</td>\n",
              "      <td>NaN</td>\n",
              "      <td>NaN</td>\n",
              "      <td>NaN</td>\n",
              "    </tr>\n",
              "  </tbody>\n",
              "</table>\n",
              "</div>\n",
              "      <button class=\"colab-df-convert\" onclick=\"convertToInteractive('df-58950556-7d6e-4d5e-81f9-d15cb1fb8d79')\"\n",
              "              title=\"Convert this dataframe to an interactive table.\"\n",
              "              style=\"display:none;\">\n",
              "        \n",
              "  <svg xmlns=\"http://www.w3.org/2000/svg\" height=\"24px\"viewBox=\"0 0 24 24\"\n",
              "       width=\"24px\">\n",
              "    <path d=\"M0 0h24v24H0V0z\" fill=\"none\"/>\n",
              "    <path d=\"M18.56 5.44l.94 2.06.94-2.06 2.06-.94-2.06-.94-.94-2.06-.94 2.06-2.06.94zm-11 1L8.5 8.5l.94-2.06 2.06-.94-2.06-.94L8.5 2.5l-.94 2.06-2.06.94zm10 10l.94 2.06.94-2.06 2.06-.94-2.06-.94-.94-2.06-.94 2.06-2.06.94z\"/><path d=\"M17.41 7.96l-1.37-1.37c-.4-.4-.92-.59-1.43-.59-.52 0-1.04.2-1.43.59L10.3 9.45l-7.72 7.72c-.78.78-.78 2.05 0 2.83L4 21.41c.39.39.9.59 1.41.59.51 0 1.02-.2 1.41-.59l7.78-7.78 2.81-2.81c.8-.78.8-2.07 0-2.86zM5.41 20L4 18.59l7.72-7.72 1.47 1.35L5.41 20z\"/>\n",
              "  </svg>\n",
              "      </button>\n",
              "      \n",
              "  <style>\n",
              "    .colab-df-container {\n",
              "      display:flex;\n",
              "      flex-wrap:wrap;\n",
              "      gap: 12px;\n",
              "    }\n",
              "\n",
              "    .colab-df-convert {\n",
              "      background-color: #E8F0FE;\n",
              "      border: none;\n",
              "      border-radius: 50%;\n",
              "      cursor: pointer;\n",
              "      display: none;\n",
              "      fill: #1967D2;\n",
              "      height: 32px;\n",
              "      padding: 0 0 0 0;\n",
              "      width: 32px;\n",
              "    }\n",
              "\n",
              "    .colab-df-convert:hover {\n",
              "      background-color: #E2EBFA;\n",
              "      box-shadow: 0px 1px 2px rgba(60, 64, 67, 0.3), 0px 1px 3px 1px rgba(60, 64, 67, 0.15);\n",
              "      fill: #174EA6;\n",
              "    }\n",
              "\n",
              "    [theme=dark] .colab-df-convert {\n",
              "      background-color: #3B4455;\n",
              "      fill: #D2E3FC;\n",
              "    }\n",
              "\n",
              "    [theme=dark] .colab-df-convert:hover {\n",
              "      background-color: #434B5C;\n",
              "      box-shadow: 0px 1px 3px 1px rgba(0, 0, 0, 0.15);\n",
              "      filter: drop-shadow(0px 1px 2px rgba(0, 0, 0, 0.3));\n",
              "      fill: #FFFFFF;\n",
              "    }\n",
              "  </style>\n",
              "\n",
              "      <script>\n",
              "        const buttonEl =\n",
              "          document.querySelector('#df-58950556-7d6e-4d5e-81f9-d15cb1fb8d79 button.colab-df-convert');\n",
              "        buttonEl.style.display =\n",
              "          google.colab.kernel.accessAllowed ? 'block' : 'none';\n",
              "\n",
              "        async function convertToInteractive(key) {\n",
              "          const element = document.querySelector('#df-58950556-7d6e-4d5e-81f9-d15cb1fb8d79');\n",
              "          const dataTable =\n",
              "            await google.colab.kernel.invokeFunction('convertToInteractive',\n",
              "                                                     [key], {});\n",
              "          if (!dataTable) return;\n",
              "\n",
              "          const docLinkHtml = 'Like what you see? Visit the ' +\n",
              "            '<a target=\"_blank\" href=https://colab.research.google.com/notebooks/data_table.ipynb>data table notebook</a>'\n",
              "            + ' to learn more about interactive tables.';\n",
              "          element.innerHTML = '';\n",
              "          dataTable['output_type'] = 'display_data';\n",
              "          await google.colab.output.renderOutput(dataTable, element);\n",
              "          const docLink = document.createElement('div');\n",
              "          docLink.innerHTML = docLinkHtml;\n",
              "          element.appendChild(docLink);\n",
              "        }\n",
              "      </script>\n",
              "    </div>\n",
              "  </div>\n",
              "  "
            ]
          },
          "metadata": {},
          "execution_count": 295
        }
      ]
    },
    {
      "cell_type": "code",
      "source": [
        "df.info()"
      ],
      "metadata": {
        "colab": {
          "base_uri": "https://localhost:8080/"
        },
        "id": "s70c3WLVaOeu",
        "outputId": "bf98aec9-7c20-4ed9-cce6-a3abed7bdb22"
      },
      "execution_count": 296,
      "outputs": [
        {
          "output_type": "stream",
          "name": "stdout",
          "text": [
            "<class 'pandas.core.frame.DataFrame'>\n",
            "RangeIndex: 120 entries, 0 to 119\n",
            "Data columns (total 14 columns):\n",
            " #   Column          Non-Null Count  Dtype  \n",
            "---  ------          --------------  -----  \n",
            " 0   Unnamed: 0      120 non-null    int64  \n",
            " 1   Child Tag       120 non-null    object \n",
            " 2   Text            120 non-null    object \n",
            " 3   Unnamed: 3      120 non-null    int64  \n",
            " 4   Child Tag.1     120 non-null    object \n",
            " 5   Parent Tag      105 non-null    object \n",
            " 6   Unnamed: 6      37 non-null     float64\n",
            " 7   Orphan Tags     37 non-null     object \n",
            " 8   Unnamed: 8      51 non-null     float64\n",
            " 9   Childless Tags  51 non-null     object \n",
            " 10  Unnamed: 10     1 non-null      float64\n",
            " 11  TBV Tags        1 non-null      object \n",
            " 12  Unnamed: 12     1 non-null      float64\n",
            " 13  TBD Tags        1 non-null      object \n",
            "dtypes: float64(4), int64(2), object(8)\n",
            "memory usage: 13.2+ KB\n"
          ]
        }
      ]
    },
    {
      "cell_type": "code",
      "source": [
        "df['Child Tag'].value_counts()"
      ],
      "metadata": {
        "colab": {
          "base_uri": "https://localhost:8080/"
        },
        "id": "h0hRh76FmoUl",
        "outputId": "c58421dc-596c-4bfa-951e-53984e1603b0"
      },
      "execution_count": 297,
      "outputs": [
        {
          "output_type": "execute_result",
          "data": {
            "text/plain": [
              "PUMP:HRD:100     1\n",
              "PUMP:HRD:105     1\n",
              "PUMP:UT:140      1\n",
              "PUMP:UT:130      1\n",
              "PUMP:UT:120      1\n",
              "                ..\n",
              "PUMP:PRS:5       1\n",
              "PUMP:PRS:4       1\n",
              "PUMP:PRS:3       1\n",
              "PUMP:PRS:2       1\n",
              "PUMP:URS:4000    1\n",
              "Name: Child Tag, Length: 120, dtype: int64"
            ]
          },
          "metadata": {},
          "execution_count": 297
        }
      ]
    },
    {
      "cell_type": "code",
      "source": [
        "df['Parent Tag'].value_counts()"
      ],
      "metadata": {
        "colab": {
          "base_uri": "https://localhost:8080/"
        },
        "id": "jQIZR3Ckahhg",
        "outputId": "d5b6608e-081d-4b16-d708-d338c086d26c"
      },
      "execution_count": 298,
      "outputs": [
        {
          "output_type": "execute_result",
          "data": {
            "text/plain": [
              "[PUMP:PRS:4000] [PUMP:DER:2]                                                                                                5\n",
              "[PUMP:PRS:1]                                                                                                                3\n",
              "[PUMP:HRS:100]                                                                                                              2\n",
              "[PUMP:UNIT:130]                                                                                                             2\n",
              "[ACE:SRS:2]                                                                                                                 2\n",
              "                                                                                                                           ..\n",
              "[ACE:SRS:10]                                                                                                                1\n",
              "[ACE:SRS:100]                                                                                                               1\n",
              "[PUMP:PRS:1] [PUMP:TBV:1]                                                                                                   1\n",
              "[PUMP:HRD:3350]                                                                                                             1\n",
              "[BOLUS:SRS:1] [BOLUS:SRS:2] [BOLUS:SRS:5] [BOLUS:SRS:6] [BOLUS:SRS:8] [BOLUS:SRS:12] [ACE:SRS:1] [ACE:SRS:5] [ACE:SRS:6]    1\n",
              "Name: Parent Tag, Length: 77, dtype: int64"
            ]
          },
          "metadata": {},
          "execution_count": 298
        }
      ]
    },
    {
      "cell_type": "code",
      "source": [
        "df.describe()"
      ],
      "metadata": {
        "colab": {
          "base_uri": "https://localhost:8080/",
          "height": 300
        },
        "id": "uRvcUMJebzuY",
        "outputId": "6a636b21-d137-49f6-d930-f4db0b193eca"
      },
      "execution_count": 299,
      "outputs": [
        {
          "output_type": "execute_result",
          "data": {
            "text/plain": [
              "       Unnamed: 0  Unnamed: 3  Unnamed: 6  Unnamed: 8  Unnamed: 10  \\\n",
              "count  120.000000  120.000000   37.000000   51.000000          1.0   \n",
              "mean    59.500000   59.500000   18.000000   25.000000          0.0   \n",
              "std     34.785054   34.785054   10.824355   14.866069          NaN   \n",
              "min      0.000000    0.000000    0.000000    0.000000          0.0   \n",
              "25%     29.750000   29.750000    9.000000   12.500000          0.0   \n",
              "50%     59.500000   59.500000   18.000000   25.000000          0.0   \n",
              "75%     89.250000   89.250000   27.000000   37.500000          0.0   \n",
              "max    119.000000  119.000000   36.000000   50.000000          0.0   \n",
              "\n",
              "       Unnamed: 12  \n",
              "count          1.0  \n",
              "mean           0.0  \n",
              "std            NaN  \n",
              "min            0.0  \n",
              "25%            0.0  \n",
              "50%            0.0  \n",
              "75%            0.0  \n",
              "max            0.0  "
            ],
            "text/html": [
              "\n",
              "  <div id=\"df-e459cfb8-c9c6-407e-bb84-d423183125ca\">\n",
              "    <div class=\"colab-df-container\">\n",
              "      <div>\n",
              "<style scoped>\n",
              "    .dataframe tbody tr th:only-of-type {\n",
              "        vertical-align: middle;\n",
              "    }\n",
              "\n",
              "    .dataframe tbody tr th {\n",
              "        vertical-align: top;\n",
              "    }\n",
              "\n",
              "    .dataframe thead th {\n",
              "        text-align: right;\n",
              "    }\n",
              "</style>\n",
              "<table border=\"1\" class=\"dataframe\">\n",
              "  <thead>\n",
              "    <tr style=\"text-align: right;\">\n",
              "      <th></th>\n",
              "      <th>Unnamed: 0</th>\n",
              "      <th>Unnamed: 3</th>\n",
              "      <th>Unnamed: 6</th>\n",
              "      <th>Unnamed: 8</th>\n",
              "      <th>Unnamed: 10</th>\n",
              "      <th>Unnamed: 12</th>\n",
              "    </tr>\n",
              "  </thead>\n",
              "  <tbody>\n",
              "    <tr>\n",
              "      <th>count</th>\n",
              "      <td>120.000000</td>\n",
              "      <td>120.000000</td>\n",
              "      <td>37.000000</td>\n",
              "      <td>51.000000</td>\n",
              "      <td>1.0</td>\n",
              "      <td>1.0</td>\n",
              "    </tr>\n",
              "    <tr>\n",
              "      <th>mean</th>\n",
              "      <td>59.500000</td>\n",
              "      <td>59.500000</td>\n",
              "      <td>18.000000</td>\n",
              "      <td>25.000000</td>\n",
              "      <td>0.0</td>\n",
              "      <td>0.0</td>\n",
              "    </tr>\n",
              "    <tr>\n",
              "      <th>std</th>\n",
              "      <td>34.785054</td>\n",
              "      <td>34.785054</td>\n",
              "      <td>10.824355</td>\n",
              "      <td>14.866069</td>\n",
              "      <td>NaN</td>\n",
              "      <td>NaN</td>\n",
              "    </tr>\n",
              "    <tr>\n",
              "      <th>min</th>\n",
              "      <td>0.000000</td>\n",
              "      <td>0.000000</td>\n",
              "      <td>0.000000</td>\n",
              "      <td>0.000000</td>\n",
              "      <td>0.0</td>\n",
              "      <td>0.0</td>\n",
              "    </tr>\n",
              "    <tr>\n",
              "      <th>25%</th>\n",
              "      <td>29.750000</td>\n",
              "      <td>29.750000</td>\n",
              "      <td>9.000000</td>\n",
              "      <td>12.500000</td>\n",
              "      <td>0.0</td>\n",
              "      <td>0.0</td>\n",
              "    </tr>\n",
              "    <tr>\n",
              "      <th>50%</th>\n",
              "      <td>59.500000</td>\n",
              "      <td>59.500000</td>\n",
              "      <td>18.000000</td>\n",
              "      <td>25.000000</td>\n",
              "      <td>0.0</td>\n",
              "      <td>0.0</td>\n",
              "    </tr>\n",
              "    <tr>\n",
              "      <th>75%</th>\n",
              "      <td>89.250000</td>\n",
              "      <td>89.250000</td>\n",
              "      <td>27.000000</td>\n",
              "      <td>37.500000</td>\n",
              "      <td>0.0</td>\n",
              "      <td>0.0</td>\n",
              "    </tr>\n",
              "    <tr>\n",
              "      <th>max</th>\n",
              "      <td>119.000000</td>\n",
              "      <td>119.000000</td>\n",
              "      <td>36.000000</td>\n",
              "      <td>50.000000</td>\n",
              "      <td>0.0</td>\n",
              "      <td>0.0</td>\n",
              "    </tr>\n",
              "  </tbody>\n",
              "</table>\n",
              "</div>\n",
              "      <button class=\"colab-df-convert\" onclick=\"convertToInteractive('df-e459cfb8-c9c6-407e-bb84-d423183125ca')\"\n",
              "              title=\"Convert this dataframe to an interactive table.\"\n",
              "              style=\"display:none;\">\n",
              "        \n",
              "  <svg xmlns=\"http://www.w3.org/2000/svg\" height=\"24px\"viewBox=\"0 0 24 24\"\n",
              "       width=\"24px\">\n",
              "    <path d=\"M0 0h24v24H0V0z\" fill=\"none\"/>\n",
              "    <path d=\"M18.56 5.44l.94 2.06.94-2.06 2.06-.94-2.06-.94-.94-2.06-.94 2.06-2.06.94zm-11 1L8.5 8.5l.94-2.06 2.06-.94-2.06-.94L8.5 2.5l-.94 2.06-2.06.94zm10 10l.94 2.06.94-2.06 2.06-.94-2.06-.94-.94-2.06-.94 2.06-2.06.94z\"/><path d=\"M17.41 7.96l-1.37-1.37c-.4-.4-.92-.59-1.43-.59-.52 0-1.04.2-1.43.59L10.3 9.45l-7.72 7.72c-.78.78-.78 2.05 0 2.83L4 21.41c.39.39.9.59 1.41.59.51 0 1.02-.2 1.41-.59l7.78-7.78 2.81-2.81c.8-.78.8-2.07 0-2.86zM5.41 20L4 18.59l7.72-7.72 1.47 1.35L5.41 20z\"/>\n",
              "  </svg>\n",
              "      </button>\n",
              "      \n",
              "  <style>\n",
              "    .colab-df-container {\n",
              "      display:flex;\n",
              "      flex-wrap:wrap;\n",
              "      gap: 12px;\n",
              "    }\n",
              "\n",
              "    .colab-df-convert {\n",
              "      background-color: #E8F0FE;\n",
              "      border: none;\n",
              "      border-radius: 50%;\n",
              "      cursor: pointer;\n",
              "      display: none;\n",
              "      fill: #1967D2;\n",
              "      height: 32px;\n",
              "      padding: 0 0 0 0;\n",
              "      width: 32px;\n",
              "    }\n",
              "\n",
              "    .colab-df-convert:hover {\n",
              "      background-color: #E2EBFA;\n",
              "      box-shadow: 0px 1px 2px rgba(60, 64, 67, 0.3), 0px 1px 3px 1px rgba(60, 64, 67, 0.15);\n",
              "      fill: #174EA6;\n",
              "    }\n",
              "\n",
              "    [theme=dark] .colab-df-convert {\n",
              "      background-color: #3B4455;\n",
              "      fill: #D2E3FC;\n",
              "    }\n",
              "\n",
              "    [theme=dark] .colab-df-convert:hover {\n",
              "      background-color: #434B5C;\n",
              "      box-shadow: 0px 1px 3px 1px rgba(0, 0, 0, 0.15);\n",
              "      filter: drop-shadow(0px 1px 2px rgba(0, 0, 0, 0.3));\n",
              "      fill: #FFFFFF;\n",
              "    }\n",
              "  </style>\n",
              "\n",
              "      <script>\n",
              "        const buttonEl =\n",
              "          document.querySelector('#df-e459cfb8-c9c6-407e-bb84-d423183125ca button.colab-df-convert');\n",
              "        buttonEl.style.display =\n",
              "          google.colab.kernel.accessAllowed ? 'block' : 'none';\n",
              "\n",
              "        async function convertToInteractive(key) {\n",
              "          const element = document.querySelector('#df-e459cfb8-c9c6-407e-bb84-d423183125ca');\n",
              "          const dataTable =\n",
              "            await google.colab.kernel.invokeFunction('convertToInteractive',\n",
              "                                                     [key], {});\n",
              "          if (!dataTable) return;\n",
              "\n",
              "          const docLinkHtml = 'Like what you see? Visit the ' +\n",
              "            '<a target=\"_blank\" href=https://colab.research.google.com/notebooks/data_table.ipynb>data table notebook</a>'\n",
              "            + ' to learn more about interactive tables.';\n",
              "          element.innerHTML = '';\n",
              "          dataTable['output_type'] = 'display_data';\n",
              "          await google.colab.output.renderOutput(dataTable, element);\n",
              "          const docLink = document.createElement('div');\n",
              "          docLink.innerHTML = docLinkHtml;\n",
              "          element.appendChild(docLink);\n",
              "        }\n",
              "      </script>\n",
              "    </div>\n",
              "  </div>\n",
              "  "
            ]
          },
          "metadata": {},
          "execution_count": 299
        }
      ]
    },
    {
      "cell_type": "markdown",
      "source": [
        "**Performing data cleaning to have a refined report with the necessary columns**"
      ],
      "metadata": {
        "id": "kGWfadYSb49o"
      }
    },
    {
      "cell_type": "code",
      "source": [
        "qa_df = df.drop(columns=['Unnamed: 0', 'Unnamed: 3', 'Unnamed: 6', 'Unnamed: 8', 'Unnamed: 10', 'Unnamed: 12'])\n",
        "qa_df.head()"
      ],
      "metadata": {
        "colab": {
          "base_uri": "https://localhost:8080/",
          "height": 206
        },
        "id": "FbpNJZp2nmzA",
        "outputId": "61f02438-12e9-4659-804b-4d8dad0b9f59"
      },
      "execution_count": 300,
      "outputs": [
        {
          "output_type": "execute_result",
          "data": {
            "text/plain": [
              "       Child Tag                                               Text  \\\n",
              "0   PUMP:HRD:100  Details regarding the rechargeable Lithium Pol...   \n",
              "1   PUMP:HRD:105  Details regarding the fuel gauge hardware for ...   \n",
              "2  PUMP:HRD:1000  Details regarding the pressure sensors for use...   \n",
              "3  PUMP:HRD:3330  Details regarding the size and weight of the p...   \n",
              "4  PUMP:HRD:3350     Details regarding the full color touchscreen.    \n",
              "\n",
              "     Child Tag.1       Parent Tag    Orphan Tags Childless Tags      TBV Tags  \\\n",
              "0   PUMP:HRD:100   [PUMP:HRS:100]  PUMP:RISK:10   PUMP:HRS:3340  [PUMP:TBV:1]   \n",
              "1   PUMP:HRD:105   [PUMP:HRS:103]  PUMP:RISK:20    PUMP:HTR:100           NaN   \n",
              "2  PUMP:HRD:1000  [PUMP:HRS:1000]  PUMP:RISK:30   PUMP:HTR:1100           NaN   \n",
              "3  PUMP:HRD:3330  [PUMP:HRS:3330]  PUMP:RISK:40   PUMP:HTR:1200           NaN   \n",
              "4  PUMP:HRD:3350  [PUMP:HRS:3350]  PUMP:RISK:50   PUMP:HTR:1300           NaN   \n",
              "\n",
              "       TBD Tags  \n",
              "0  [PUMP:TBD:1]  \n",
              "1           NaN  \n",
              "2           NaN  \n",
              "3           NaN  \n",
              "4           NaN  "
            ],
            "text/html": [
              "\n",
              "  <div id=\"df-9e56e4f3-73e8-4695-86ad-5712185df302\">\n",
              "    <div class=\"colab-df-container\">\n",
              "      <div>\n",
              "<style scoped>\n",
              "    .dataframe tbody tr th:only-of-type {\n",
              "        vertical-align: middle;\n",
              "    }\n",
              "\n",
              "    .dataframe tbody tr th {\n",
              "        vertical-align: top;\n",
              "    }\n",
              "\n",
              "    .dataframe thead th {\n",
              "        text-align: right;\n",
              "    }\n",
              "</style>\n",
              "<table border=\"1\" class=\"dataframe\">\n",
              "  <thead>\n",
              "    <tr style=\"text-align: right;\">\n",
              "      <th></th>\n",
              "      <th>Child Tag</th>\n",
              "      <th>Text</th>\n",
              "      <th>Child Tag.1</th>\n",
              "      <th>Parent Tag</th>\n",
              "      <th>Orphan Tags</th>\n",
              "      <th>Childless Tags</th>\n",
              "      <th>TBV Tags</th>\n",
              "      <th>TBD Tags</th>\n",
              "    </tr>\n",
              "  </thead>\n",
              "  <tbody>\n",
              "    <tr>\n",
              "      <th>0</th>\n",
              "      <td>PUMP:HRD:100</td>\n",
              "      <td>Details regarding the rechargeable Lithium Pol...</td>\n",
              "      <td>PUMP:HRD:100</td>\n",
              "      <td>[PUMP:HRS:100]</td>\n",
              "      <td>PUMP:RISK:10</td>\n",
              "      <td>PUMP:HRS:3340</td>\n",
              "      <td>[PUMP:TBV:1]</td>\n",
              "      <td>[PUMP:TBD:1]</td>\n",
              "    </tr>\n",
              "    <tr>\n",
              "      <th>1</th>\n",
              "      <td>PUMP:HRD:105</td>\n",
              "      <td>Details regarding the fuel gauge hardware for ...</td>\n",
              "      <td>PUMP:HRD:105</td>\n",
              "      <td>[PUMP:HRS:103]</td>\n",
              "      <td>PUMP:RISK:20</td>\n",
              "      <td>PUMP:HTR:100</td>\n",
              "      <td>NaN</td>\n",
              "      <td>NaN</td>\n",
              "    </tr>\n",
              "    <tr>\n",
              "      <th>2</th>\n",
              "      <td>PUMP:HRD:1000</td>\n",
              "      <td>Details regarding the pressure sensors for use...</td>\n",
              "      <td>PUMP:HRD:1000</td>\n",
              "      <td>[PUMP:HRS:1000]</td>\n",
              "      <td>PUMP:RISK:30</td>\n",
              "      <td>PUMP:HTR:1100</td>\n",
              "      <td>NaN</td>\n",
              "      <td>NaN</td>\n",
              "    </tr>\n",
              "    <tr>\n",
              "      <th>3</th>\n",
              "      <td>PUMP:HRD:3330</td>\n",
              "      <td>Details regarding the size and weight of the p...</td>\n",
              "      <td>PUMP:HRD:3330</td>\n",
              "      <td>[PUMP:HRS:3330]</td>\n",
              "      <td>PUMP:RISK:40</td>\n",
              "      <td>PUMP:HTR:1200</td>\n",
              "      <td>NaN</td>\n",
              "      <td>NaN</td>\n",
              "    </tr>\n",
              "    <tr>\n",
              "      <th>4</th>\n",
              "      <td>PUMP:HRD:3350</td>\n",
              "      <td>Details regarding the full color touchscreen.</td>\n",
              "      <td>PUMP:HRD:3350</td>\n",
              "      <td>[PUMP:HRS:3350]</td>\n",
              "      <td>PUMP:RISK:50</td>\n",
              "      <td>PUMP:HTR:1300</td>\n",
              "      <td>NaN</td>\n",
              "      <td>NaN</td>\n",
              "    </tr>\n",
              "  </tbody>\n",
              "</table>\n",
              "</div>\n",
              "      <button class=\"colab-df-convert\" onclick=\"convertToInteractive('df-9e56e4f3-73e8-4695-86ad-5712185df302')\"\n",
              "              title=\"Convert this dataframe to an interactive table.\"\n",
              "              style=\"display:none;\">\n",
              "        \n",
              "  <svg xmlns=\"http://www.w3.org/2000/svg\" height=\"24px\"viewBox=\"0 0 24 24\"\n",
              "       width=\"24px\">\n",
              "    <path d=\"M0 0h24v24H0V0z\" fill=\"none\"/>\n",
              "    <path d=\"M18.56 5.44l.94 2.06.94-2.06 2.06-.94-2.06-.94-.94-2.06-.94 2.06-2.06.94zm-11 1L8.5 8.5l.94-2.06 2.06-.94-2.06-.94L8.5 2.5l-.94 2.06-2.06.94zm10 10l.94 2.06.94-2.06 2.06-.94-2.06-.94-.94-2.06-.94 2.06-2.06.94z\"/><path d=\"M17.41 7.96l-1.37-1.37c-.4-.4-.92-.59-1.43-.59-.52 0-1.04.2-1.43.59L10.3 9.45l-7.72 7.72c-.78.78-.78 2.05 0 2.83L4 21.41c.39.39.9.59 1.41.59.51 0 1.02-.2 1.41-.59l7.78-7.78 2.81-2.81c.8-.78.8-2.07 0-2.86zM5.41 20L4 18.59l7.72-7.72 1.47 1.35L5.41 20z\"/>\n",
              "  </svg>\n",
              "      </button>\n",
              "      \n",
              "  <style>\n",
              "    .colab-df-container {\n",
              "      display:flex;\n",
              "      flex-wrap:wrap;\n",
              "      gap: 12px;\n",
              "    }\n",
              "\n",
              "    .colab-df-convert {\n",
              "      background-color: #E8F0FE;\n",
              "      border: none;\n",
              "      border-radius: 50%;\n",
              "      cursor: pointer;\n",
              "      display: none;\n",
              "      fill: #1967D2;\n",
              "      height: 32px;\n",
              "      padding: 0 0 0 0;\n",
              "      width: 32px;\n",
              "    }\n",
              "\n",
              "    .colab-df-convert:hover {\n",
              "      background-color: #E2EBFA;\n",
              "      box-shadow: 0px 1px 2px rgba(60, 64, 67, 0.3), 0px 1px 3px 1px rgba(60, 64, 67, 0.15);\n",
              "      fill: #174EA6;\n",
              "    }\n",
              "\n",
              "    [theme=dark] .colab-df-convert {\n",
              "      background-color: #3B4455;\n",
              "      fill: #D2E3FC;\n",
              "    }\n",
              "\n",
              "    [theme=dark] .colab-df-convert:hover {\n",
              "      background-color: #434B5C;\n",
              "      box-shadow: 0px 1px 3px 1px rgba(0, 0, 0, 0.15);\n",
              "      filter: drop-shadow(0px 1px 2px rgba(0, 0, 0, 0.3));\n",
              "      fill: #FFFFFF;\n",
              "    }\n",
              "  </style>\n",
              "\n",
              "      <script>\n",
              "        const buttonEl =\n",
              "          document.querySelector('#df-9e56e4f3-73e8-4695-86ad-5712185df302 button.colab-df-convert');\n",
              "        buttonEl.style.display =\n",
              "          google.colab.kernel.accessAllowed ? 'block' : 'none';\n",
              "\n",
              "        async function convertToInteractive(key) {\n",
              "          const element = document.querySelector('#df-9e56e4f3-73e8-4695-86ad-5712185df302');\n",
              "          const dataTable =\n",
              "            await google.colab.kernel.invokeFunction('convertToInteractive',\n",
              "                                                     [key], {});\n",
              "          if (!dataTable) return;\n",
              "\n",
              "          const docLinkHtml = 'Like what you see? Visit the ' +\n",
              "            '<a target=\"_blank\" href=https://colab.research.google.com/notebooks/data_table.ipynb>data table notebook</a>'\n",
              "            + ' to learn more about interactive tables.';\n",
              "          element.innerHTML = '';\n",
              "          dataTable['output_type'] = 'display_data';\n",
              "          await google.colab.output.renderOutput(dataTable, element);\n",
              "          const docLink = document.createElement('div');\n",
              "          docLink.innerHTML = docLinkHtml;\n",
              "          element.appendChild(docLink);\n",
              "        }\n",
              "      </script>\n",
              "    </div>\n",
              "  </div>\n",
              "  "
            ]
          },
          "metadata": {},
          "execution_count": 300
        }
      ]
    },
    {
      "cell_type": "markdown",
      "source": [
        "**Data Source:**\n",
        "* https://github.com/adrianb896/TARGEST.MAC.Final-1.4\n",
        "* https://github.com/JanWilliamHaug/TARGEST.Windows.Final-1.2\n",
        "\n",
        "**Data Collected:** \n",
        "* The data was collected from documents that the requirements and child and parent tags are used to distinguish the relationship involved in tracing. We were able to extract the relevant information from these documents for our analysis.\n",
        "\n",
        "**Relativeness:**\n",
        "* This dataset is relevant to requirement tracing as it contains information on the requirements that need to be met. By analyzing this data, we can gain insights into how well the requirements are being met and identify any potential issues that may arise."
      ],
      "metadata": {
        "id": "EcpkMKYOUS5b"
      }
    },
    {
      "cell_type": "code",
      "source": [
        "qa_df.info()"
      ],
      "metadata": {
        "colab": {
          "base_uri": "https://localhost:8080/"
        },
        "id": "2O5Tag0jiYfm",
        "outputId": "38887d47-87c1-461b-b720-95947f1b8088"
      },
      "execution_count": 301,
      "outputs": [
        {
          "output_type": "stream",
          "name": "stdout",
          "text": [
            "<class 'pandas.core.frame.DataFrame'>\n",
            "RangeIndex: 120 entries, 0 to 119\n",
            "Data columns (total 8 columns):\n",
            " #   Column          Non-Null Count  Dtype \n",
            "---  ------          --------------  ----- \n",
            " 0   Child Tag       120 non-null    object\n",
            " 1   Text            120 non-null    object\n",
            " 2   Child Tag.1     120 non-null    object\n",
            " 3   Parent Tag      105 non-null    object\n",
            " 4   Orphan Tags     37 non-null     object\n",
            " 5   Childless Tags  51 non-null     object\n",
            " 6   TBV Tags        1 non-null      object\n",
            " 7   TBD Tags        1 non-null      object\n",
            "dtypes: object(8)\n",
            "memory usage: 7.6+ KB\n"
          ]
        }
      ]
    },
    {
      "cell_type": "code",
      "source": [
        "qa_df.describe()"
      ],
      "metadata": {
        "colab": {
          "base_uri": "https://localhost:8080/",
          "height": 174
        },
        "id": "bpmJfAEMi8fx",
        "outputId": "bb564b8d-3b03-4c66-b247-e53090b5a018"
      },
      "execution_count": 302,
      "outputs": [
        {
          "output_type": "execute_result",
          "data": {
            "text/plain": [
              "           Child Tag       Text   Child Tag.1                    Parent Tag  \\\n",
              "count            120        120           120                           105   \n",
              "unique           120         99           120                            77   \n",
              "top     PUMP:HRD:100  Test 100   PUMP:HRD:100  [PUMP:PRS:4000] [PUMP:DER:2]   \n",
              "freq               1          3             1                             5   \n",
              "\n",
              "          Orphan Tags Childless Tags      TBV Tags      TBD Tags  \n",
              "count              37             51             1             1  \n",
              "unique             37             51             1             1  \n",
              "top     PUMP:RISK:10   PUMP:HRS:3340  [PUMP:TBV:1]  [PUMP:TBD:1]  \n",
              "freq                1              1             1             1  "
            ],
            "text/html": [
              "\n",
              "  <div id=\"df-5dde3ff7-5830-416a-8799-15ba820b9e4e\">\n",
              "    <div class=\"colab-df-container\">\n",
              "      <div>\n",
              "<style scoped>\n",
              "    .dataframe tbody tr th:only-of-type {\n",
              "        vertical-align: middle;\n",
              "    }\n",
              "\n",
              "    .dataframe tbody tr th {\n",
              "        vertical-align: top;\n",
              "    }\n",
              "\n",
              "    .dataframe thead th {\n",
              "        text-align: right;\n",
              "    }\n",
              "</style>\n",
              "<table border=\"1\" class=\"dataframe\">\n",
              "  <thead>\n",
              "    <tr style=\"text-align: right;\">\n",
              "      <th></th>\n",
              "      <th>Child Tag</th>\n",
              "      <th>Text</th>\n",
              "      <th>Child Tag.1</th>\n",
              "      <th>Parent Tag</th>\n",
              "      <th>Orphan Tags</th>\n",
              "      <th>Childless Tags</th>\n",
              "      <th>TBV Tags</th>\n",
              "      <th>TBD Tags</th>\n",
              "    </tr>\n",
              "  </thead>\n",
              "  <tbody>\n",
              "    <tr>\n",
              "      <th>count</th>\n",
              "      <td>120</td>\n",
              "      <td>120</td>\n",
              "      <td>120</td>\n",
              "      <td>105</td>\n",
              "      <td>37</td>\n",
              "      <td>51</td>\n",
              "      <td>1</td>\n",
              "      <td>1</td>\n",
              "    </tr>\n",
              "    <tr>\n",
              "      <th>unique</th>\n",
              "      <td>120</td>\n",
              "      <td>99</td>\n",
              "      <td>120</td>\n",
              "      <td>77</td>\n",
              "      <td>37</td>\n",
              "      <td>51</td>\n",
              "      <td>1</td>\n",
              "      <td>1</td>\n",
              "    </tr>\n",
              "    <tr>\n",
              "      <th>top</th>\n",
              "      <td>PUMP:HRD:100</td>\n",
              "      <td>Test 100</td>\n",
              "      <td>PUMP:HRD:100</td>\n",
              "      <td>[PUMP:PRS:4000] [PUMP:DER:2]</td>\n",
              "      <td>PUMP:RISK:10</td>\n",
              "      <td>PUMP:HRS:3340</td>\n",
              "      <td>[PUMP:TBV:1]</td>\n",
              "      <td>[PUMP:TBD:1]</td>\n",
              "    </tr>\n",
              "    <tr>\n",
              "      <th>freq</th>\n",
              "      <td>1</td>\n",
              "      <td>3</td>\n",
              "      <td>1</td>\n",
              "      <td>5</td>\n",
              "      <td>1</td>\n",
              "      <td>1</td>\n",
              "      <td>1</td>\n",
              "      <td>1</td>\n",
              "    </tr>\n",
              "  </tbody>\n",
              "</table>\n",
              "</div>\n",
              "      <button class=\"colab-df-convert\" onclick=\"convertToInteractive('df-5dde3ff7-5830-416a-8799-15ba820b9e4e')\"\n",
              "              title=\"Convert this dataframe to an interactive table.\"\n",
              "              style=\"display:none;\">\n",
              "        \n",
              "  <svg xmlns=\"http://www.w3.org/2000/svg\" height=\"24px\"viewBox=\"0 0 24 24\"\n",
              "       width=\"24px\">\n",
              "    <path d=\"M0 0h24v24H0V0z\" fill=\"none\"/>\n",
              "    <path d=\"M18.56 5.44l.94 2.06.94-2.06 2.06-.94-2.06-.94-.94-2.06-.94 2.06-2.06.94zm-11 1L8.5 8.5l.94-2.06 2.06-.94-2.06-.94L8.5 2.5l-.94 2.06-2.06.94zm10 10l.94 2.06.94-2.06 2.06-.94-2.06-.94-.94-2.06-.94 2.06-2.06.94z\"/><path d=\"M17.41 7.96l-1.37-1.37c-.4-.4-.92-.59-1.43-.59-.52 0-1.04.2-1.43.59L10.3 9.45l-7.72 7.72c-.78.78-.78 2.05 0 2.83L4 21.41c.39.39.9.59 1.41.59.51 0 1.02-.2 1.41-.59l7.78-7.78 2.81-2.81c.8-.78.8-2.07 0-2.86zM5.41 20L4 18.59l7.72-7.72 1.47 1.35L5.41 20z\"/>\n",
              "  </svg>\n",
              "      </button>\n",
              "      \n",
              "  <style>\n",
              "    .colab-df-container {\n",
              "      display:flex;\n",
              "      flex-wrap:wrap;\n",
              "      gap: 12px;\n",
              "    }\n",
              "\n",
              "    .colab-df-convert {\n",
              "      background-color: #E8F0FE;\n",
              "      border: none;\n",
              "      border-radius: 50%;\n",
              "      cursor: pointer;\n",
              "      display: none;\n",
              "      fill: #1967D2;\n",
              "      height: 32px;\n",
              "      padding: 0 0 0 0;\n",
              "      width: 32px;\n",
              "    }\n",
              "\n",
              "    .colab-df-convert:hover {\n",
              "      background-color: #E2EBFA;\n",
              "      box-shadow: 0px 1px 2px rgba(60, 64, 67, 0.3), 0px 1px 3px 1px rgba(60, 64, 67, 0.15);\n",
              "      fill: #174EA6;\n",
              "    }\n",
              "\n",
              "    [theme=dark] .colab-df-convert {\n",
              "      background-color: #3B4455;\n",
              "      fill: #D2E3FC;\n",
              "    }\n",
              "\n",
              "    [theme=dark] .colab-df-convert:hover {\n",
              "      background-color: #434B5C;\n",
              "      box-shadow: 0px 1px 3px 1px rgba(0, 0, 0, 0.15);\n",
              "      filter: drop-shadow(0px 1px 2px rgba(0, 0, 0, 0.3));\n",
              "      fill: #FFFFFF;\n",
              "    }\n",
              "  </style>\n",
              "\n",
              "      <script>\n",
              "        const buttonEl =\n",
              "          document.querySelector('#df-5dde3ff7-5830-416a-8799-15ba820b9e4e button.colab-df-convert');\n",
              "        buttonEl.style.display =\n",
              "          google.colab.kernel.accessAllowed ? 'block' : 'none';\n",
              "\n",
              "        async function convertToInteractive(key) {\n",
              "          const element = document.querySelector('#df-5dde3ff7-5830-416a-8799-15ba820b9e4e');\n",
              "          const dataTable =\n",
              "            await google.colab.kernel.invokeFunction('convertToInteractive',\n",
              "                                                     [key], {});\n",
              "          if (!dataTable) return;\n",
              "\n",
              "          const docLinkHtml = 'Like what you see? Visit the ' +\n",
              "            '<a target=\"_blank\" href=https://colab.research.google.com/notebooks/data_table.ipynb>data table notebook</a>'\n",
              "            + ' to learn more about interactive tables.';\n",
              "          element.innerHTML = '';\n",
              "          dataTable['output_type'] = 'display_data';\n",
              "          await google.colab.output.renderOutput(dataTable, element);\n",
              "          const docLink = document.createElement('div');\n",
              "          docLink.innerHTML = docLinkHtml;\n",
              "          element.appendChild(docLink);\n",
              "        }\n",
              "      </script>\n",
              "    </div>\n",
              "  </div>\n",
              "  "
            ]
          },
          "metadata": {},
          "execution_count": 302
        }
      ]
    },
    {
      "cell_type": "markdown",
      "source": [
        "# **Understanding the data**"
      ],
      "metadata": {
        "id": "nN_Oa58kjHFD"
      }
    },
    {
      "cell_type": "markdown",
      "source": [
        "* **data file size**"
      ],
      "metadata": {
        "id": "MreHj4w9jMd-"
      }
    },
    {
      "cell_type": "code",
      "source": [
        "from pathlib import Path\n",
        "import os\n",
        "import chardet\n",
        "\n",
        "the_path = Path('gdrive/MyDrive/exceltest/QAReport.xlsx')\n",
        "print(f'File size: {os.path.getsize(the_path) / 1024:0.2f} KiB')"
      ],
      "metadata": {
        "colab": {
          "base_uri": "https://localhost:8080/"
        },
        "id": "Pbp0eXXpjRtp",
        "outputId": "a583dd1c-0e9e-4eff-bd00-f1c575a63ed1"
      },
      "execution_count": 303,
      "outputs": [
        {
          "output_type": "stream",
          "name": "stdout",
          "text": [
            "File size: 16.40 KiB\n"
          ]
        }
      ]
    },
    {
      "cell_type": "markdown",
      "source": [
        "**What is the granularity of the data?**"
      ],
      "metadata": {
        "id": "shsUiomGb13q"
      }
    },
    {
      "cell_type": "code",
      "source": [
        "print(\"original dataframe shape: \", df.shape)\n",
        "print(\"updated dataframe shape: \", qa_df.shape)"
      ],
      "metadata": {
        "colab": {
          "base_uri": "https://localhost:8080/"
        },
        "id": "1gM7OcdEkRt4",
        "outputId": "d5b51e94-39dc-4748-e5a0-91c4a6b38bd6"
      },
      "execution_count": 304,
      "outputs": [
        {
          "output_type": "stream",
          "name": "stdout",
          "text": [
            "original dataframe shape:  (120, 14)\n",
            "updated dataframe shape:  (120, 8)\n"
          ]
        }
      ]
    },
    {
      "cell_type": "code",
      "source": [
        "qa_df"
      ],
      "metadata": {
        "colab": {
          "base_uri": "https://localhost:8080/",
          "height": 423
        },
        "id": "7df6MYKTked3",
        "outputId": "82c27485-b1a8-4dab-dd90-d7f14b94755c"
      },
      "execution_count": 305,
      "outputs": [
        {
          "output_type": "execute_result",
          "data": {
            "text/plain": [
              "         Child Tag                                               Text  \\\n",
              "0     PUMP:HRD:100  Details regarding the rechargeable Lithium Pol...   \n",
              "1     PUMP:HRD:105  Details regarding the fuel gauge hardware for ...   \n",
              "2    PUMP:HRD:1000  Details regarding the pressure sensors for use...   \n",
              "3    PUMP:HRD:3330  Details regarding the size and weight of the p...   \n",
              "4    PUMP:HRD:3350     Details regarding the full color touchscreen.    \n",
              "..             ...                                                ...   \n",
              "115   PUMP:URS:103   The pump shall display remaining battery charge.   \n",
              "116  PUMP:URS:1000   The pump shall display remaining insulin volume.   \n",
              "117  PUMP:URS:3330           The pump shall be small and lightweight.   \n",
              "118  PUMP:URS:3350                     The pump shall be easy to use.   \n",
              "119  PUMP:URS:4000  The pump shall include an automated dosing alg...   \n",
              "\n",
              "       Child Tag.1       Parent Tag    Orphan Tags Childless Tags  \\\n",
              "0     PUMP:HRD:100   [PUMP:HRS:100]  PUMP:RISK:10   PUMP:HRS:3340   \n",
              "1     PUMP:HRD:105   [PUMP:HRS:103]  PUMP:RISK:20    PUMP:HTR:100   \n",
              "2    PUMP:HRD:1000  [PUMP:HRS:1000]  PUMP:RISK:30   PUMP:HTR:1100   \n",
              "3    PUMP:HRD:3330  [PUMP:HRS:3330]  PUMP:RISK:40   PUMP:HTR:1200   \n",
              "4    PUMP:HRD:3350  [PUMP:HRS:3350]  PUMP:RISK:50   PUMP:HTR:1300   \n",
              "..             ...              ...            ...            ...   \n",
              "115   PUMP:URS:103              NaN            NaN            NaN   \n",
              "116  PUMP:URS:1000              NaN            NaN            NaN   \n",
              "117  PUMP:URS:3330              NaN            NaN            NaN   \n",
              "118  PUMP:URS:3350              NaN            NaN            NaN   \n",
              "119  PUMP:URS:4000              NaN            NaN            NaN   \n",
              "\n",
              "         TBV Tags      TBD Tags  \n",
              "0    [PUMP:TBV:1]  [PUMP:TBD:1]  \n",
              "1             NaN           NaN  \n",
              "2             NaN           NaN  \n",
              "3             NaN           NaN  \n",
              "4             NaN           NaN  \n",
              "..            ...           ...  \n",
              "115           NaN           NaN  \n",
              "116           NaN           NaN  \n",
              "117           NaN           NaN  \n",
              "118           NaN           NaN  \n",
              "119           NaN           NaN  \n",
              "\n",
              "[120 rows x 8 columns]"
            ],
            "text/html": [
              "\n",
              "  <div id=\"df-b6731d66-4dfd-410f-b232-3f6e06291677\">\n",
              "    <div class=\"colab-df-container\">\n",
              "      <div>\n",
              "<style scoped>\n",
              "    .dataframe tbody tr th:only-of-type {\n",
              "        vertical-align: middle;\n",
              "    }\n",
              "\n",
              "    .dataframe tbody tr th {\n",
              "        vertical-align: top;\n",
              "    }\n",
              "\n",
              "    .dataframe thead th {\n",
              "        text-align: right;\n",
              "    }\n",
              "</style>\n",
              "<table border=\"1\" class=\"dataframe\">\n",
              "  <thead>\n",
              "    <tr style=\"text-align: right;\">\n",
              "      <th></th>\n",
              "      <th>Child Tag</th>\n",
              "      <th>Text</th>\n",
              "      <th>Child Tag.1</th>\n",
              "      <th>Parent Tag</th>\n",
              "      <th>Orphan Tags</th>\n",
              "      <th>Childless Tags</th>\n",
              "      <th>TBV Tags</th>\n",
              "      <th>TBD Tags</th>\n",
              "    </tr>\n",
              "  </thead>\n",
              "  <tbody>\n",
              "    <tr>\n",
              "      <th>0</th>\n",
              "      <td>PUMP:HRD:100</td>\n",
              "      <td>Details regarding the rechargeable Lithium Pol...</td>\n",
              "      <td>PUMP:HRD:100</td>\n",
              "      <td>[PUMP:HRS:100]</td>\n",
              "      <td>PUMP:RISK:10</td>\n",
              "      <td>PUMP:HRS:3340</td>\n",
              "      <td>[PUMP:TBV:1]</td>\n",
              "      <td>[PUMP:TBD:1]</td>\n",
              "    </tr>\n",
              "    <tr>\n",
              "      <th>1</th>\n",
              "      <td>PUMP:HRD:105</td>\n",
              "      <td>Details regarding the fuel gauge hardware for ...</td>\n",
              "      <td>PUMP:HRD:105</td>\n",
              "      <td>[PUMP:HRS:103]</td>\n",
              "      <td>PUMP:RISK:20</td>\n",
              "      <td>PUMP:HTR:100</td>\n",
              "      <td>NaN</td>\n",
              "      <td>NaN</td>\n",
              "    </tr>\n",
              "    <tr>\n",
              "      <th>2</th>\n",
              "      <td>PUMP:HRD:1000</td>\n",
              "      <td>Details regarding the pressure sensors for use...</td>\n",
              "      <td>PUMP:HRD:1000</td>\n",
              "      <td>[PUMP:HRS:1000]</td>\n",
              "      <td>PUMP:RISK:30</td>\n",
              "      <td>PUMP:HTR:1100</td>\n",
              "      <td>NaN</td>\n",
              "      <td>NaN</td>\n",
              "    </tr>\n",
              "    <tr>\n",
              "      <th>3</th>\n",
              "      <td>PUMP:HRD:3330</td>\n",
              "      <td>Details regarding the size and weight of the p...</td>\n",
              "      <td>PUMP:HRD:3330</td>\n",
              "      <td>[PUMP:HRS:3330]</td>\n",
              "      <td>PUMP:RISK:40</td>\n",
              "      <td>PUMP:HTR:1200</td>\n",
              "      <td>NaN</td>\n",
              "      <td>NaN</td>\n",
              "    </tr>\n",
              "    <tr>\n",
              "      <th>4</th>\n",
              "      <td>PUMP:HRD:3350</td>\n",
              "      <td>Details regarding the full color touchscreen.</td>\n",
              "      <td>PUMP:HRD:3350</td>\n",
              "      <td>[PUMP:HRS:3350]</td>\n",
              "      <td>PUMP:RISK:50</td>\n",
              "      <td>PUMP:HTR:1300</td>\n",
              "      <td>NaN</td>\n",
              "      <td>NaN</td>\n",
              "    </tr>\n",
              "    <tr>\n",
              "      <th>...</th>\n",
              "      <td>...</td>\n",
              "      <td>...</td>\n",
              "      <td>...</td>\n",
              "      <td>...</td>\n",
              "      <td>...</td>\n",
              "      <td>...</td>\n",
              "      <td>...</td>\n",
              "      <td>...</td>\n",
              "    </tr>\n",
              "    <tr>\n",
              "      <th>115</th>\n",
              "      <td>PUMP:URS:103</td>\n",
              "      <td>The pump shall display remaining battery charge.</td>\n",
              "      <td>PUMP:URS:103</td>\n",
              "      <td>NaN</td>\n",
              "      <td>NaN</td>\n",
              "      <td>NaN</td>\n",
              "      <td>NaN</td>\n",
              "      <td>NaN</td>\n",
              "    </tr>\n",
              "    <tr>\n",
              "      <th>116</th>\n",
              "      <td>PUMP:URS:1000</td>\n",
              "      <td>The pump shall display remaining insulin volume.</td>\n",
              "      <td>PUMP:URS:1000</td>\n",
              "      <td>NaN</td>\n",
              "      <td>NaN</td>\n",
              "      <td>NaN</td>\n",
              "      <td>NaN</td>\n",
              "      <td>NaN</td>\n",
              "    </tr>\n",
              "    <tr>\n",
              "      <th>117</th>\n",
              "      <td>PUMP:URS:3330</td>\n",
              "      <td>The pump shall be small and lightweight.</td>\n",
              "      <td>PUMP:URS:3330</td>\n",
              "      <td>NaN</td>\n",
              "      <td>NaN</td>\n",
              "      <td>NaN</td>\n",
              "      <td>NaN</td>\n",
              "      <td>NaN</td>\n",
              "    </tr>\n",
              "    <tr>\n",
              "      <th>118</th>\n",
              "      <td>PUMP:URS:3350</td>\n",
              "      <td>The pump shall be easy to use.</td>\n",
              "      <td>PUMP:URS:3350</td>\n",
              "      <td>NaN</td>\n",
              "      <td>NaN</td>\n",
              "      <td>NaN</td>\n",
              "      <td>NaN</td>\n",
              "      <td>NaN</td>\n",
              "    </tr>\n",
              "    <tr>\n",
              "      <th>119</th>\n",
              "      <td>PUMP:URS:4000</td>\n",
              "      <td>The pump shall include an automated dosing alg...</td>\n",
              "      <td>PUMP:URS:4000</td>\n",
              "      <td>NaN</td>\n",
              "      <td>NaN</td>\n",
              "      <td>NaN</td>\n",
              "      <td>NaN</td>\n",
              "      <td>NaN</td>\n",
              "    </tr>\n",
              "  </tbody>\n",
              "</table>\n",
              "<p>120 rows × 8 columns</p>\n",
              "</div>\n",
              "      <button class=\"colab-df-convert\" onclick=\"convertToInteractive('df-b6731d66-4dfd-410f-b232-3f6e06291677')\"\n",
              "              title=\"Convert this dataframe to an interactive table.\"\n",
              "              style=\"display:none;\">\n",
              "        \n",
              "  <svg xmlns=\"http://www.w3.org/2000/svg\" height=\"24px\"viewBox=\"0 0 24 24\"\n",
              "       width=\"24px\">\n",
              "    <path d=\"M0 0h24v24H0V0z\" fill=\"none\"/>\n",
              "    <path d=\"M18.56 5.44l.94 2.06.94-2.06 2.06-.94-2.06-.94-.94-2.06-.94 2.06-2.06.94zm-11 1L8.5 8.5l.94-2.06 2.06-.94-2.06-.94L8.5 2.5l-.94 2.06-2.06.94zm10 10l.94 2.06.94-2.06 2.06-.94-2.06-.94-.94-2.06-.94 2.06-2.06.94z\"/><path d=\"M17.41 7.96l-1.37-1.37c-.4-.4-.92-.59-1.43-.59-.52 0-1.04.2-1.43.59L10.3 9.45l-7.72 7.72c-.78.78-.78 2.05 0 2.83L4 21.41c.39.39.9.59 1.41.59.51 0 1.02-.2 1.41-.59l7.78-7.78 2.81-2.81c.8-.78.8-2.07 0-2.86zM5.41 20L4 18.59l7.72-7.72 1.47 1.35L5.41 20z\"/>\n",
              "  </svg>\n",
              "      </button>\n",
              "      \n",
              "  <style>\n",
              "    .colab-df-container {\n",
              "      display:flex;\n",
              "      flex-wrap:wrap;\n",
              "      gap: 12px;\n",
              "    }\n",
              "\n",
              "    .colab-df-convert {\n",
              "      background-color: #E8F0FE;\n",
              "      border: none;\n",
              "      border-radius: 50%;\n",
              "      cursor: pointer;\n",
              "      display: none;\n",
              "      fill: #1967D2;\n",
              "      height: 32px;\n",
              "      padding: 0 0 0 0;\n",
              "      width: 32px;\n",
              "    }\n",
              "\n",
              "    .colab-df-convert:hover {\n",
              "      background-color: #E2EBFA;\n",
              "      box-shadow: 0px 1px 2px rgba(60, 64, 67, 0.3), 0px 1px 3px 1px rgba(60, 64, 67, 0.15);\n",
              "      fill: #174EA6;\n",
              "    }\n",
              "\n",
              "    [theme=dark] .colab-df-convert {\n",
              "      background-color: #3B4455;\n",
              "      fill: #D2E3FC;\n",
              "    }\n",
              "\n",
              "    [theme=dark] .colab-df-convert:hover {\n",
              "      background-color: #434B5C;\n",
              "      box-shadow: 0px 1px 3px 1px rgba(0, 0, 0, 0.15);\n",
              "      filter: drop-shadow(0px 1px 2px rgba(0, 0, 0, 0.3));\n",
              "      fill: #FFFFFF;\n",
              "    }\n",
              "  </style>\n",
              "\n",
              "      <script>\n",
              "        const buttonEl =\n",
              "          document.querySelector('#df-b6731d66-4dfd-410f-b232-3f6e06291677 button.colab-df-convert');\n",
              "        buttonEl.style.display =\n",
              "          google.colab.kernel.accessAllowed ? 'block' : 'none';\n",
              "\n",
              "        async function convertToInteractive(key) {\n",
              "          const element = document.querySelector('#df-b6731d66-4dfd-410f-b232-3f6e06291677');\n",
              "          const dataTable =\n",
              "            await google.colab.kernel.invokeFunction('convertToInteractive',\n",
              "                                                     [key], {});\n",
              "          if (!dataTable) return;\n",
              "\n",
              "          const docLinkHtml = 'Like what you see? Visit the ' +\n",
              "            '<a target=\"_blank\" href=https://colab.research.google.com/notebooks/data_table.ipynb>data table notebook</a>'\n",
              "            + ' to learn more about interactive tables.';\n",
              "          element.innerHTML = '';\n",
              "          dataTable['output_type'] = 'display_data';\n",
              "          await google.colab.output.renderOutput(dataTable, element);\n",
              "          const docLink = document.createElement('div');\n",
              "          docLink.innerHTML = docLinkHtml;\n",
              "          element.appendChild(docLink);\n",
              "        }\n",
              "      </script>\n",
              "    </div>\n",
              "  </div>\n",
              "  "
            ]
          },
          "metadata": {},
          "execution_count": 305
        }
      ]
    },
    {
      "cell_type": "code",
      "source": [
        "# with granularity we need to know what the dropper table represents\n",
        "print(\"Dataset: \", len(qa_df))\n",
        "print(\"Number of unique child tags: \", len(qa_df['Child Tag'].unique()))\n",
        "print(\"Number of unique parent tags: \", len(qa_df['Parent Tag'].unique()))\n",
        "print(\"Number of unique requirements: \", len(qa_df['Text'].unique()))"
      ],
      "metadata": {
        "colab": {
          "base_uri": "https://localhost:8080/"
        },
        "id": "k2Qm_V3pcZGO",
        "outputId": "f8f419bf-73ac-4c70-dc05-45a0cb3938f2"
      },
      "execution_count": 306,
      "outputs": [
        {
          "output_type": "stream",
          "name": "stdout",
          "text": [
            "Dataset:  120\n",
            "Number of unique child tags:  120\n",
            "Number of unique parent tags:  78\n",
            "Number of unique requirements:  99\n"
          ]
        }
      ]
    },
    {
      "cell_type": "markdown",
      "source": [
        "***Data quality: are there any outliers?***"
      ],
      "metadata": {
        "id": "JqqT6SFNmi_M"
      }
    },
    {
      "cell_type": "code",
      "source": [
        "qa_df['Child Tag'].value_counts()"
      ],
      "metadata": {
        "colab": {
          "base_uri": "https://localhost:8080/"
        },
        "id": "6zm3UgH4mhhQ",
        "outputId": "45ce92e3-e6e1-4c62-8e36-2b97ff73a582"
      },
      "execution_count": 307,
      "outputs": [
        {
          "output_type": "execute_result",
          "data": {
            "text/plain": [
              "PUMP:HRD:100     1\n",
              "PUMP:HRD:105     1\n",
              "PUMP:UT:140      1\n",
              "PUMP:UT:130      1\n",
              "PUMP:UT:120      1\n",
              "                ..\n",
              "PUMP:PRS:5       1\n",
              "PUMP:PRS:4       1\n",
              "PUMP:PRS:3       1\n",
              "PUMP:PRS:2       1\n",
              "PUMP:URS:4000    1\n",
              "Name: Child Tag, Length: 120, dtype: int64"
            ]
          },
          "metadata": {},
          "execution_count": 307
        }
      ]
    },
    {
      "cell_type": "code",
      "source": [
        "qa_df['Parent Tag'].value_counts()"
      ],
      "metadata": {
        "colab": {
          "base_uri": "https://localhost:8080/"
        },
        "id": "LasBnn3Gm7Pw",
        "outputId": "038b9f9b-0b49-4a18-bbd3-29ade1d7c595"
      },
      "execution_count": 308,
      "outputs": [
        {
          "output_type": "execute_result",
          "data": {
            "text/plain": [
              "[PUMP:PRS:4000] [PUMP:DER:2]                                                                                                5\n",
              "[PUMP:PRS:1]                                                                                                                3\n",
              "[PUMP:HRS:100]                                                                                                              2\n",
              "[PUMP:UNIT:130]                                                                                                             2\n",
              "[ACE:SRS:2]                                                                                                                 2\n",
              "                                                                                                                           ..\n",
              "[ACE:SRS:10]                                                                                                                1\n",
              "[ACE:SRS:100]                                                                                                               1\n",
              "[PUMP:PRS:1] [PUMP:TBV:1]                                                                                                   1\n",
              "[PUMP:HRD:3350]                                                                                                             1\n",
              "[BOLUS:SRS:1] [BOLUS:SRS:2] [BOLUS:SRS:5] [BOLUS:SRS:6] [BOLUS:SRS:8] [BOLUS:SRS:12] [ACE:SRS:1] [ACE:SRS:5] [ACE:SRS:6]    1\n",
              "Name: Parent Tag, Length: 77, dtype: int64"
            ]
          },
          "metadata": {},
          "execution_count": 308
        }
      ]
    },
    {
      "cell_type": "code",
      "source": [
        "qa_df['Text'].value_counts()"
      ],
      "metadata": {
        "colab": {
          "base_uri": "https://localhost:8080/"
        },
        "id": "BOnseehKnAjl",
        "outputId": "25fa90ea-4e9b-44df-e526-87a82ef53a46"
      },
      "execution_count": 309,
      "outputs": [
        {
          "output_type": "execute_result",
          "data": {
            "text/plain": [
              "Test 100                                                                                    3\n",
              "Test 500                                                                                    3\n",
              "Test 400                                                                                    3\n",
              "Test 300                                                                                    3\n",
              "Test 200                                                                                    3\n",
              "                                                                                           ..\n",
              "Here are details of how the battery estimation works                                        1\n",
              "Here are details of how the human languages are swapped around                              1\n",
              "Here are details of how the remaining insulin estimation works… include lots of math ….     1\n",
              "Here are details of how the GUI works….                                                     1\n",
              "The pump shall include an automated dosing algorithm.                                       1\n",
              "Name: Text, Length: 99, dtype: int64"
            ]
          },
          "metadata": {},
          "execution_count": 309
        }
      ]
    },
    {
      "cell_type": "code",
      "source": [
        "qa_df['Orphan Tags'].value_counts()"
      ],
      "metadata": {
        "colab": {
          "base_uri": "https://localhost:8080/"
        },
        "id": "SeyNWowonmGe",
        "outputId": "d9fe28d1-4538-46e3-cf47-b8bb89873de4"
      },
      "execution_count": 310,
      "outputs": [
        {
          "output_type": "execute_result",
          "data": {
            "text/plain": [
              "PUMP:RISK:10      1\n",
              "PUMP:TBV:1        1\n",
              "PUMP:TBD:1        1\n",
              "PUMP:DER:2        1\n",
              "ACE:SRS:1000      1\n",
              "PUMP:UNIT:100     1\n",
              "PUMP:UNIT:110     1\n",
              "PUMP:UNIT:120     1\n",
              "PUMP:UNIT:130     1\n",
              "PUMP:UNIT:140     1\n",
              "PUMP:UNIT:150     1\n",
              "PUMP:UNIT:160     1\n",
              "PUMP:UNIT:170     1\n",
              "PUMP:UNIT:180     1\n",
              "PUMP:UNIT:190     1\n",
              "PUMP:UNIT:200     1\n",
              "PUMP:UNIT:210     1\n",
              "PUMP:PRS:6        1\n",
              "ACE:SRS:120       1\n",
              "PUMP:RISK:20      1\n",
              "ACE:SRS:110       1\n",
              "PUMP:RISK:30      1\n",
              "PUMP:RISK:40      1\n",
              "PUMP:RISK:50      1\n",
              "PUMP:URS:1        1\n",
              "PUMP:URS:3        1\n",
              "PUMP:URS:8        1\n",
              "PUMP:URS:10       1\n",
              "PUMP:URS:100      1\n",
              "PUMP:URS:103      1\n",
              "PUMP:URS:1000     1\n",
              "PUMP:URS:3330     1\n",
              "PUMP:URS:3350     1\n",
              "PUMP:URS:4000     1\n",
              "PUMP:HRS:103      1\n",
              "PUMP:PRS:103      1\n",
              "PUMP:UNIT:220     1\n",
              "Name: Orphan Tags, dtype: int64"
            ]
          },
          "metadata": {},
          "execution_count": 310
        }
      ]
    },
    {
      "cell_type": "code",
      "source": [
        "qa_df.isnull().sum() # looking for any missing or NaN values that occur in our dataset"
      ],
      "metadata": {
        "colab": {
          "base_uri": "https://localhost:8080/"
        },
        "id": "XzDULTh6nQX2",
        "outputId": "913b6536-da7c-446e-cbe2-d12f08b200f4"
      },
      "execution_count": 311,
      "outputs": [
        {
          "output_type": "execute_result",
          "data": {
            "text/plain": [
              "Child Tag           0\n",
              "Text                0\n",
              "Child Tag.1         0\n",
              "Parent Tag         15\n",
              "Orphan Tags        83\n",
              "Childless Tags     69\n",
              "TBV Tags          119\n",
              "TBD Tags          119\n",
              "dtype: int64"
            ]
          },
          "metadata": {},
          "execution_count": 311
        }
      ]
    },
    {
      "cell_type": "code",
      "source": [
        "qa_df['Text'].isnull().value_counts()"
      ],
      "metadata": {
        "colab": {
          "base_uri": "https://localhost:8080/"
        },
        "id": "FT-ox_dIqGGj",
        "outputId": "84e20c49-3862-4086-ec11-ae1856f4afed"
      },
      "execution_count": 312,
      "outputs": [
        {
          "output_type": "execute_result",
          "data": {
            "text/plain": [
              "False    120\n",
              "Name: Text, dtype: int64"
            ]
          },
          "metadata": {},
          "execution_count": 312
        }
      ]
    },
    {
      "cell_type": "code",
      "source": [
        "qa_df['Child Tag.1'].isnull().value_counts()"
      ],
      "metadata": {
        "colab": {
          "base_uri": "https://localhost:8080/"
        },
        "id": "pEEgDDMbqJSu",
        "outputId": "bd890d7d-afb2-414c-f0d6-3f735218f648"
      },
      "execution_count": 313,
      "outputs": [
        {
          "output_type": "execute_result",
          "data": {
            "text/plain": [
              "False    120\n",
              "Name: Child Tag.1, dtype: int64"
            ]
          },
          "metadata": {},
          "execution_count": 313
        }
      ]
    },
    {
      "cell_type": "code",
      "source": [
        "qa_df['Orphan Tags'].isnull().value_counts()"
      ],
      "metadata": {
        "colab": {
          "base_uri": "https://localhost:8080/"
        },
        "id": "ZV1xuJp2n7r2",
        "outputId": "6b8292c7-b456-42fc-8290-41108ffa0f11"
      },
      "execution_count": 314,
      "outputs": [
        {
          "output_type": "execute_result",
          "data": {
            "text/plain": [
              "True     83\n",
              "False    37\n",
              "Name: Orphan Tags, dtype: int64"
            ]
          },
          "metadata": {},
          "execution_count": 314
        }
      ]
    },
    {
      "cell_type": "code",
      "source": [
        "qa_df['Childless Tags'].isnull().value_counts()"
      ],
      "metadata": {
        "colab": {
          "base_uri": "https://localhost:8080/"
        },
        "id": "je8kmtO7oozB",
        "outputId": "625c8d32-cf37-4650-8aec-8df21dd43eec"
      },
      "execution_count": 315,
      "outputs": [
        {
          "output_type": "execute_result",
          "data": {
            "text/plain": [
              "True     69\n",
              "False    51\n",
              "Name: Childless Tags, dtype: int64"
            ]
          },
          "metadata": {},
          "execution_count": 315
        }
      ]
    },
    {
      "cell_type": "code",
      "source": [
        "qa_df['Child Tag'].isnull().value_counts()"
      ],
      "metadata": {
        "colab": {
          "base_uri": "https://localhost:8080/"
        },
        "id": "n9iZBATNouNx",
        "outputId": "3a0e89d4-315e-46cc-8f26-a60507e104c1"
      },
      "execution_count": 316,
      "outputs": [
        {
          "output_type": "execute_result",
          "data": {
            "text/plain": [
              "False    120\n",
              "Name: Child Tag, dtype: int64"
            ]
          },
          "metadata": {},
          "execution_count": 316
        }
      ]
    },
    {
      "cell_type": "code",
      "source": [
        "qa_df['Parent Tag'].isnull().value_counts()"
      ],
      "metadata": {
        "colab": {
          "base_uri": "https://localhost:8080/"
        },
        "id": "16PQAbhSozeP",
        "outputId": "c29cd9ef-c7f6-48e9-fe91-a0a45f7fb1d7"
      },
      "execution_count": 317,
      "outputs": [
        {
          "output_type": "execute_result",
          "data": {
            "text/plain": [
              "False    105\n",
              "True      15\n",
              "Name: Parent Tag, dtype: int64"
            ]
          },
          "metadata": {},
          "execution_count": 317
        }
      ]
    },
    {
      "cell_type": "code",
      "source": [
        "qa_df['TBV Tags'].isnull().value_counts()"
      ],
      "metadata": {
        "colab": {
          "base_uri": "https://localhost:8080/"
        },
        "id": "JXThfQZppOmu",
        "outputId": "75fc09e1-5e92-4f0f-bd8f-b5361e20d332"
      },
      "execution_count": 318,
      "outputs": [
        {
          "output_type": "execute_result",
          "data": {
            "text/plain": [
              "True     119\n",
              "False      1\n",
              "Name: TBV Tags, dtype: int64"
            ]
          },
          "metadata": {},
          "execution_count": 318
        }
      ]
    },
    {
      "cell_type": "code",
      "source": [
        "qa_df['TBD Tags'].isnull().value_counts()"
      ],
      "metadata": {
        "colab": {
          "base_uri": "https://localhost:8080/"
        },
        "id": "RSnz588zpUy6",
        "outputId": "82c8f5db-9568-46c3-c0ae-0fe1948d9f7f"
      },
      "execution_count": 319,
      "outputs": [
        {
          "output_type": "execute_result",
          "data": {
            "text/plain": [
              "True     119\n",
              "False      1\n",
              "Name: TBD Tags, dtype: int64"
            ]
          },
          "metadata": {},
          "execution_count": 319
        }
      ]
    },
    {
      "cell_type": "code",
      "source": [
        "print(\"Total NaN values: \")\n",
        "qa_df.isnull().sum().sum()"
      ],
      "metadata": {
        "colab": {
          "base_uri": "https://localhost:8080/"
        },
        "id": "uewadMxNo5jN",
        "outputId": "c2572a7b-c5d4-411a-8cf5-a2d3144ef213"
      },
      "execution_count": 320,
      "outputs": [
        {
          "output_type": "stream",
          "name": "stdout",
          "text": [
            "Total NaN values: \n"
          ]
        },
        {
          "output_type": "execute_result",
          "data": {
            "text/plain": [
              "405"
            ]
          },
          "metadata": {},
          "execution_count": 320
        }
      ]
    },
    {
      "cell_type": "markdown",
      "source": [
        "By observation we can come to a conclusion that having a total of 405 rows having no values in it is due to the fact that some of our columns only have 1 cell being filled or some tags might have less than other columns.\n",
        "* Orphan Tags column: 83 NaN values\n",
        "* Childless Tags column: 69 NaN values\n",
        "* Parent Tags column: 15 NaN values\n",
        "* TBV Tags column: 119 NaN values\n",
        "* TBD Tags column: 119 NaN value"
      ],
      "metadata": {
        "id": "KEgM2NpPpAJB"
      }
    },
    {
      "cell_type": "markdown",
      "source": [
        "# ***Exploratory Data Analysis:***\n",
        "* What are the key requirements that need to be traced?\n",
        "\n",
        "# ***Predictive Data Analysis:***\n",
        "* How can we predict and prevent requirement-related issues"
      ],
      "metadata": {
        "id": "h2QPWGSLq8F0"
      }
    },
    {
      "cell_type": "markdown",
      "source": [
        "* **Orphan Tags** need to be traced because they play the role of being tags that have no relationship to parent tags found in our dataset. These orphan tags are hypothetically considered as errors found in requirements that might have been added wrong.\n",
        "* **Childless Tags** need to be traced as well because they play the role of being tags that have no relationship to the child tags found in our dataset. These childless tags are hypothetically considered as errors found in requirements that might have been added wrong as well."
      ],
      "metadata": {
        "id": "UfrH44DbrJLo"
      }
    },
    {
      "cell_type": "code",
      "source": [
        "qa_df[['Orphan Tags', 'Childless Tags']]"
      ],
      "metadata": {
        "colab": {
          "base_uri": "https://localhost:8080/",
          "height": 423
        },
        "id": "pgz4a1Jkpndh",
        "outputId": "fe2887ff-b8ee-436c-c2f4-4858206e55c2"
      },
      "execution_count": 321,
      "outputs": [
        {
          "output_type": "execute_result",
          "data": {
            "text/plain": [
              "       Orphan Tags Childless Tags\n",
              "0    PUMP:RISK:10   PUMP:HRS:3340\n",
              "1    PUMP:RISK:20    PUMP:HTR:100\n",
              "2    PUMP:RISK:30   PUMP:HTR:1100\n",
              "3    PUMP:RISK:40   PUMP:HTR:1200\n",
              "4    PUMP:RISK:50   PUMP:HTR:1300\n",
              "..             ...            ...\n",
              "115            NaN            NaN\n",
              "116            NaN            NaN\n",
              "117            NaN            NaN\n",
              "118            NaN            NaN\n",
              "119            NaN            NaN\n",
              "\n",
              "[120 rows x 2 columns]"
            ],
            "text/html": [
              "\n",
              "  <div id=\"df-2df12f41-68f3-4285-b0a4-64a20d1ea233\">\n",
              "    <div class=\"colab-df-container\">\n",
              "      <div>\n",
              "<style scoped>\n",
              "    .dataframe tbody tr th:only-of-type {\n",
              "        vertical-align: middle;\n",
              "    }\n",
              "\n",
              "    .dataframe tbody tr th {\n",
              "        vertical-align: top;\n",
              "    }\n",
              "\n",
              "    .dataframe thead th {\n",
              "        text-align: right;\n",
              "    }\n",
              "</style>\n",
              "<table border=\"1\" class=\"dataframe\">\n",
              "  <thead>\n",
              "    <tr style=\"text-align: right;\">\n",
              "      <th></th>\n",
              "      <th>Orphan Tags</th>\n",
              "      <th>Childless Tags</th>\n",
              "    </tr>\n",
              "  </thead>\n",
              "  <tbody>\n",
              "    <tr>\n",
              "      <th>0</th>\n",
              "      <td>PUMP:RISK:10</td>\n",
              "      <td>PUMP:HRS:3340</td>\n",
              "    </tr>\n",
              "    <tr>\n",
              "      <th>1</th>\n",
              "      <td>PUMP:RISK:20</td>\n",
              "      <td>PUMP:HTR:100</td>\n",
              "    </tr>\n",
              "    <tr>\n",
              "      <th>2</th>\n",
              "      <td>PUMP:RISK:30</td>\n",
              "      <td>PUMP:HTR:1100</td>\n",
              "    </tr>\n",
              "    <tr>\n",
              "      <th>3</th>\n",
              "      <td>PUMP:RISK:40</td>\n",
              "      <td>PUMP:HTR:1200</td>\n",
              "    </tr>\n",
              "    <tr>\n",
              "      <th>4</th>\n",
              "      <td>PUMP:RISK:50</td>\n",
              "      <td>PUMP:HTR:1300</td>\n",
              "    </tr>\n",
              "    <tr>\n",
              "      <th>...</th>\n",
              "      <td>...</td>\n",
              "      <td>...</td>\n",
              "    </tr>\n",
              "    <tr>\n",
              "      <th>115</th>\n",
              "      <td>NaN</td>\n",
              "      <td>NaN</td>\n",
              "    </tr>\n",
              "    <tr>\n",
              "      <th>116</th>\n",
              "      <td>NaN</td>\n",
              "      <td>NaN</td>\n",
              "    </tr>\n",
              "    <tr>\n",
              "      <th>117</th>\n",
              "      <td>NaN</td>\n",
              "      <td>NaN</td>\n",
              "    </tr>\n",
              "    <tr>\n",
              "      <th>118</th>\n",
              "      <td>NaN</td>\n",
              "      <td>NaN</td>\n",
              "    </tr>\n",
              "    <tr>\n",
              "      <th>119</th>\n",
              "      <td>NaN</td>\n",
              "      <td>NaN</td>\n",
              "    </tr>\n",
              "  </tbody>\n",
              "</table>\n",
              "<p>120 rows × 2 columns</p>\n",
              "</div>\n",
              "      <button class=\"colab-df-convert\" onclick=\"convertToInteractive('df-2df12f41-68f3-4285-b0a4-64a20d1ea233')\"\n",
              "              title=\"Convert this dataframe to an interactive table.\"\n",
              "              style=\"display:none;\">\n",
              "        \n",
              "  <svg xmlns=\"http://www.w3.org/2000/svg\" height=\"24px\"viewBox=\"0 0 24 24\"\n",
              "       width=\"24px\">\n",
              "    <path d=\"M0 0h24v24H0V0z\" fill=\"none\"/>\n",
              "    <path d=\"M18.56 5.44l.94 2.06.94-2.06 2.06-.94-2.06-.94-.94-2.06-.94 2.06-2.06.94zm-11 1L8.5 8.5l.94-2.06 2.06-.94-2.06-.94L8.5 2.5l-.94 2.06-2.06.94zm10 10l.94 2.06.94-2.06 2.06-.94-2.06-.94-.94-2.06-.94 2.06-2.06.94z\"/><path d=\"M17.41 7.96l-1.37-1.37c-.4-.4-.92-.59-1.43-.59-.52 0-1.04.2-1.43.59L10.3 9.45l-7.72 7.72c-.78.78-.78 2.05 0 2.83L4 21.41c.39.39.9.59 1.41.59.51 0 1.02-.2 1.41-.59l7.78-7.78 2.81-2.81c.8-.78.8-2.07 0-2.86zM5.41 20L4 18.59l7.72-7.72 1.47 1.35L5.41 20z\"/>\n",
              "  </svg>\n",
              "      </button>\n",
              "      \n",
              "  <style>\n",
              "    .colab-df-container {\n",
              "      display:flex;\n",
              "      flex-wrap:wrap;\n",
              "      gap: 12px;\n",
              "    }\n",
              "\n",
              "    .colab-df-convert {\n",
              "      background-color: #E8F0FE;\n",
              "      border: none;\n",
              "      border-radius: 50%;\n",
              "      cursor: pointer;\n",
              "      display: none;\n",
              "      fill: #1967D2;\n",
              "      height: 32px;\n",
              "      padding: 0 0 0 0;\n",
              "      width: 32px;\n",
              "    }\n",
              "\n",
              "    .colab-df-convert:hover {\n",
              "      background-color: #E2EBFA;\n",
              "      box-shadow: 0px 1px 2px rgba(60, 64, 67, 0.3), 0px 1px 3px 1px rgba(60, 64, 67, 0.15);\n",
              "      fill: #174EA6;\n",
              "    }\n",
              "\n",
              "    [theme=dark] .colab-df-convert {\n",
              "      background-color: #3B4455;\n",
              "      fill: #D2E3FC;\n",
              "    }\n",
              "\n",
              "    [theme=dark] .colab-df-convert:hover {\n",
              "      background-color: #434B5C;\n",
              "      box-shadow: 0px 1px 3px 1px rgba(0, 0, 0, 0.15);\n",
              "      filter: drop-shadow(0px 1px 2px rgba(0, 0, 0, 0.3));\n",
              "      fill: #FFFFFF;\n",
              "    }\n",
              "  </style>\n",
              "\n",
              "      <script>\n",
              "        const buttonEl =\n",
              "          document.querySelector('#df-2df12f41-68f3-4285-b0a4-64a20d1ea233 button.colab-df-convert');\n",
              "        buttonEl.style.display =\n",
              "          google.colab.kernel.accessAllowed ? 'block' : 'none';\n",
              "\n",
              "        async function convertToInteractive(key) {\n",
              "          const element = document.querySelector('#df-2df12f41-68f3-4285-b0a4-64a20d1ea233');\n",
              "          const dataTable =\n",
              "            await google.colab.kernel.invokeFunction('convertToInteractive',\n",
              "                                                     [key], {});\n",
              "          if (!dataTable) return;\n",
              "\n",
              "          const docLinkHtml = 'Like what you see? Visit the ' +\n",
              "            '<a target=\"_blank\" href=https://colab.research.google.com/notebooks/data_table.ipynb>data table notebook</a>'\n",
              "            + ' to learn more about interactive tables.';\n",
              "          element.innerHTML = '';\n",
              "          dataTable['output_type'] = 'display_data';\n",
              "          await google.colab.output.renderOutput(dataTable, element);\n",
              "          const docLink = document.createElement('div');\n",
              "          docLink.innerHTML = docLinkHtml;\n",
              "          element.appendChild(docLink);\n",
              "        }\n",
              "      </script>\n",
              "    </div>\n",
              "  </div>\n",
              "  "
            ]
          },
          "metadata": {},
          "execution_count": 321
        }
      ]
    },
    {
      "cell_type": "code",
      "source": [
        "qa_df[['Child Tag', 'Text', 'Parent Tag']]"
      ],
      "metadata": {
        "colab": {
          "base_uri": "https://localhost:8080/",
          "height": 423
        },
        "id": "nFK0izjEsASS",
        "outputId": "238c3522-7d95-4be7-a36a-71a85ab1a42a"
      },
      "execution_count": 322,
      "outputs": [
        {
          "output_type": "execute_result",
          "data": {
            "text/plain": [
              "         Child Tag                                               Text  \\\n",
              "0     PUMP:HRD:100  Details regarding the rechargeable Lithium Pol...   \n",
              "1     PUMP:HRD:105  Details regarding the fuel gauge hardware for ...   \n",
              "2    PUMP:HRD:1000  Details regarding the pressure sensors for use...   \n",
              "3    PUMP:HRD:3330  Details regarding the size and weight of the p...   \n",
              "4    PUMP:HRD:3350     Details regarding the full color touchscreen.    \n",
              "..             ...                                                ...   \n",
              "115   PUMP:URS:103   The pump shall display remaining battery charge.   \n",
              "116  PUMP:URS:1000   The pump shall display remaining insulin volume.   \n",
              "117  PUMP:URS:3330           The pump shall be small and lightweight.   \n",
              "118  PUMP:URS:3350                     The pump shall be easy to use.   \n",
              "119  PUMP:URS:4000  The pump shall include an automated dosing alg...   \n",
              "\n",
              "          Parent Tag  \n",
              "0     [PUMP:HRS:100]  \n",
              "1     [PUMP:HRS:103]  \n",
              "2    [PUMP:HRS:1000]  \n",
              "3    [PUMP:HRS:3330]  \n",
              "4    [PUMP:HRS:3350]  \n",
              "..               ...  \n",
              "115              NaN  \n",
              "116              NaN  \n",
              "117              NaN  \n",
              "118              NaN  \n",
              "119              NaN  \n",
              "\n",
              "[120 rows x 3 columns]"
            ],
            "text/html": [
              "\n",
              "  <div id=\"df-a7a386b0-5edc-4559-909f-ec73d55b0c08\">\n",
              "    <div class=\"colab-df-container\">\n",
              "      <div>\n",
              "<style scoped>\n",
              "    .dataframe tbody tr th:only-of-type {\n",
              "        vertical-align: middle;\n",
              "    }\n",
              "\n",
              "    .dataframe tbody tr th {\n",
              "        vertical-align: top;\n",
              "    }\n",
              "\n",
              "    .dataframe thead th {\n",
              "        text-align: right;\n",
              "    }\n",
              "</style>\n",
              "<table border=\"1\" class=\"dataframe\">\n",
              "  <thead>\n",
              "    <tr style=\"text-align: right;\">\n",
              "      <th></th>\n",
              "      <th>Child Tag</th>\n",
              "      <th>Text</th>\n",
              "      <th>Parent Tag</th>\n",
              "    </tr>\n",
              "  </thead>\n",
              "  <tbody>\n",
              "    <tr>\n",
              "      <th>0</th>\n",
              "      <td>PUMP:HRD:100</td>\n",
              "      <td>Details regarding the rechargeable Lithium Pol...</td>\n",
              "      <td>[PUMP:HRS:100]</td>\n",
              "    </tr>\n",
              "    <tr>\n",
              "      <th>1</th>\n",
              "      <td>PUMP:HRD:105</td>\n",
              "      <td>Details regarding the fuel gauge hardware for ...</td>\n",
              "      <td>[PUMP:HRS:103]</td>\n",
              "    </tr>\n",
              "    <tr>\n",
              "      <th>2</th>\n",
              "      <td>PUMP:HRD:1000</td>\n",
              "      <td>Details regarding the pressure sensors for use...</td>\n",
              "      <td>[PUMP:HRS:1000]</td>\n",
              "    </tr>\n",
              "    <tr>\n",
              "      <th>3</th>\n",
              "      <td>PUMP:HRD:3330</td>\n",
              "      <td>Details regarding the size and weight of the p...</td>\n",
              "      <td>[PUMP:HRS:3330]</td>\n",
              "    </tr>\n",
              "    <tr>\n",
              "      <th>4</th>\n",
              "      <td>PUMP:HRD:3350</td>\n",
              "      <td>Details regarding the full color touchscreen.</td>\n",
              "      <td>[PUMP:HRS:3350]</td>\n",
              "    </tr>\n",
              "    <tr>\n",
              "      <th>...</th>\n",
              "      <td>...</td>\n",
              "      <td>...</td>\n",
              "      <td>...</td>\n",
              "    </tr>\n",
              "    <tr>\n",
              "      <th>115</th>\n",
              "      <td>PUMP:URS:103</td>\n",
              "      <td>The pump shall display remaining battery charge.</td>\n",
              "      <td>NaN</td>\n",
              "    </tr>\n",
              "    <tr>\n",
              "      <th>116</th>\n",
              "      <td>PUMP:URS:1000</td>\n",
              "      <td>The pump shall display remaining insulin volume.</td>\n",
              "      <td>NaN</td>\n",
              "    </tr>\n",
              "    <tr>\n",
              "      <th>117</th>\n",
              "      <td>PUMP:URS:3330</td>\n",
              "      <td>The pump shall be small and lightweight.</td>\n",
              "      <td>NaN</td>\n",
              "    </tr>\n",
              "    <tr>\n",
              "      <th>118</th>\n",
              "      <td>PUMP:URS:3350</td>\n",
              "      <td>The pump shall be easy to use.</td>\n",
              "      <td>NaN</td>\n",
              "    </tr>\n",
              "    <tr>\n",
              "      <th>119</th>\n",
              "      <td>PUMP:URS:4000</td>\n",
              "      <td>The pump shall include an automated dosing alg...</td>\n",
              "      <td>NaN</td>\n",
              "    </tr>\n",
              "  </tbody>\n",
              "</table>\n",
              "<p>120 rows × 3 columns</p>\n",
              "</div>\n",
              "      <button class=\"colab-df-convert\" onclick=\"convertToInteractive('df-a7a386b0-5edc-4559-909f-ec73d55b0c08')\"\n",
              "              title=\"Convert this dataframe to an interactive table.\"\n",
              "              style=\"display:none;\">\n",
              "        \n",
              "  <svg xmlns=\"http://www.w3.org/2000/svg\" height=\"24px\"viewBox=\"0 0 24 24\"\n",
              "       width=\"24px\">\n",
              "    <path d=\"M0 0h24v24H0V0z\" fill=\"none\"/>\n",
              "    <path d=\"M18.56 5.44l.94 2.06.94-2.06 2.06-.94-2.06-.94-.94-2.06-.94 2.06-2.06.94zm-11 1L8.5 8.5l.94-2.06 2.06-.94-2.06-.94L8.5 2.5l-.94 2.06-2.06.94zm10 10l.94 2.06.94-2.06 2.06-.94-2.06-.94-.94-2.06-.94 2.06-2.06.94z\"/><path d=\"M17.41 7.96l-1.37-1.37c-.4-.4-.92-.59-1.43-.59-.52 0-1.04.2-1.43.59L10.3 9.45l-7.72 7.72c-.78.78-.78 2.05 0 2.83L4 21.41c.39.39.9.59 1.41.59.51 0 1.02-.2 1.41-.59l7.78-7.78 2.81-2.81c.8-.78.8-2.07 0-2.86zM5.41 20L4 18.59l7.72-7.72 1.47 1.35L5.41 20z\"/>\n",
              "  </svg>\n",
              "      </button>\n",
              "      \n",
              "  <style>\n",
              "    .colab-df-container {\n",
              "      display:flex;\n",
              "      flex-wrap:wrap;\n",
              "      gap: 12px;\n",
              "    }\n",
              "\n",
              "    .colab-df-convert {\n",
              "      background-color: #E8F0FE;\n",
              "      border: none;\n",
              "      border-radius: 50%;\n",
              "      cursor: pointer;\n",
              "      display: none;\n",
              "      fill: #1967D2;\n",
              "      height: 32px;\n",
              "      padding: 0 0 0 0;\n",
              "      width: 32px;\n",
              "    }\n",
              "\n",
              "    .colab-df-convert:hover {\n",
              "      background-color: #E2EBFA;\n",
              "      box-shadow: 0px 1px 2px rgba(60, 64, 67, 0.3), 0px 1px 3px 1px rgba(60, 64, 67, 0.15);\n",
              "      fill: #174EA6;\n",
              "    }\n",
              "\n",
              "    [theme=dark] .colab-df-convert {\n",
              "      background-color: #3B4455;\n",
              "      fill: #D2E3FC;\n",
              "    }\n",
              "\n",
              "    [theme=dark] .colab-df-convert:hover {\n",
              "      background-color: #434B5C;\n",
              "      box-shadow: 0px 1px 3px 1px rgba(0, 0, 0, 0.15);\n",
              "      filter: drop-shadow(0px 1px 2px rgba(0, 0, 0, 0.3));\n",
              "      fill: #FFFFFF;\n",
              "    }\n",
              "  </style>\n",
              "\n",
              "      <script>\n",
              "        const buttonEl =\n",
              "          document.querySelector('#df-a7a386b0-5edc-4559-909f-ec73d55b0c08 button.colab-df-convert');\n",
              "        buttonEl.style.display =\n",
              "          google.colab.kernel.accessAllowed ? 'block' : 'none';\n",
              "\n",
              "        async function convertToInteractive(key) {\n",
              "          const element = document.querySelector('#df-a7a386b0-5edc-4559-909f-ec73d55b0c08');\n",
              "          const dataTable =\n",
              "            await google.colab.kernel.invokeFunction('convertToInteractive',\n",
              "                                                     [key], {});\n",
              "          if (!dataTable) return;\n",
              "\n",
              "          const docLinkHtml = 'Like what you see? Visit the ' +\n",
              "            '<a target=\"_blank\" href=https://colab.research.google.com/notebooks/data_table.ipynb>data table notebook</a>'\n",
              "            + ' to learn more about interactive tables.';\n",
              "          element.innerHTML = '';\n",
              "          dataTable['output_type'] = 'display_data';\n",
              "          await google.colab.output.renderOutput(dataTable, element);\n",
              "          const docLink = document.createElement('div');\n",
              "          docLink.innerHTML = docLinkHtml;\n",
              "          element.appendChild(docLink);\n",
              "        }\n",
              "      </script>\n",
              "    </div>\n",
              "  </div>\n",
              "  "
            ]
          },
          "metadata": {},
          "execution_count": 322
        }
      ]
    },
    {
      "cell_type": "code",
      "source": [
        "qa_df[['TBV Tags', 'TBD Tags']]"
      ],
      "metadata": {
        "colab": {
          "base_uri": "https://localhost:8080/",
          "height": 423
        },
        "id": "zIC1CNS-s6Te",
        "outputId": "3893cef4-5e06-4fe5-bb63-a5b1527c7444"
      },
      "execution_count": 323,
      "outputs": [
        {
          "output_type": "execute_result",
          "data": {
            "text/plain": [
              "         TBV Tags      TBD Tags\n",
              "0    [PUMP:TBV:1]  [PUMP:TBD:1]\n",
              "1             NaN           NaN\n",
              "2             NaN           NaN\n",
              "3             NaN           NaN\n",
              "4             NaN           NaN\n",
              "..            ...           ...\n",
              "115           NaN           NaN\n",
              "116           NaN           NaN\n",
              "117           NaN           NaN\n",
              "118           NaN           NaN\n",
              "119           NaN           NaN\n",
              "\n",
              "[120 rows x 2 columns]"
            ],
            "text/html": [
              "\n",
              "  <div id=\"df-1f31df74-152f-4f23-abbc-c96252d20300\">\n",
              "    <div class=\"colab-df-container\">\n",
              "      <div>\n",
              "<style scoped>\n",
              "    .dataframe tbody tr th:only-of-type {\n",
              "        vertical-align: middle;\n",
              "    }\n",
              "\n",
              "    .dataframe tbody tr th {\n",
              "        vertical-align: top;\n",
              "    }\n",
              "\n",
              "    .dataframe thead th {\n",
              "        text-align: right;\n",
              "    }\n",
              "</style>\n",
              "<table border=\"1\" class=\"dataframe\">\n",
              "  <thead>\n",
              "    <tr style=\"text-align: right;\">\n",
              "      <th></th>\n",
              "      <th>TBV Tags</th>\n",
              "      <th>TBD Tags</th>\n",
              "    </tr>\n",
              "  </thead>\n",
              "  <tbody>\n",
              "    <tr>\n",
              "      <th>0</th>\n",
              "      <td>[PUMP:TBV:1]</td>\n",
              "      <td>[PUMP:TBD:1]</td>\n",
              "    </tr>\n",
              "    <tr>\n",
              "      <th>1</th>\n",
              "      <td>NaN</td>\n",
              "      <td>NaN</td>\n",
              "    </tr>\n",
              "    <tr>\n",
              "      <th>2</th>\n",
              "      <td>NaN</td>\n",
              "      <td>NaN</td>\n",
              "    </tr>\n",
              "    <tr>\n",
              "      <th>3</th>\n",
              "      <td>NaN</td>\n",
              "      <td>NaN</td>\n",
              "    </tr>\n",
              "    <tr>\n",
              "      <th>4</th>\n",
              "      <td>NaN</td>\n",
              "      <td>NaN</td>\n",
              "    </tr>\n",
              "    <tr>\n",
              "      <th>...</th>\n",
              "      <td>...</td>\n",
              "      <td>...</td>\n",
              "    </tr>\n",
              "    <tr>\n",
              "      <th>115</th>\n",
              "      <td>NaN</td>\n",
              "      <td>NaN</td>\n",
              "    </tr>\n",
              "    <tr>\n",
              "      <th>116</th>\n",
              "      <td>NaN</td>\n",
              "      <td>NaN</td>\n",
              "    </tr>\n",
              "    <tr>\n",
              "      <th>117</th>\n",
              "      <td>NaN</td>\n",
              "      <td>NaN</td>\n",
              "    </tr>\n",
              "    <tr>\n",
              "      <th>118</th>\n",
              "      <td>NaN</td>\n",
              "      <td>NaN</td>\n",
              "    </tr>\n",
              "    <tr>\n",
              "      <th>119</th>\n",
              "      <td>NaN</td>\n",
              "      <td>NaN</td>\n",
              "    </tr>\n",
              "  </tbody>\n",
              "</table>\n",
              "<p>120 rows × 2 columns</p>\n",
              "</div>\n",
              "      <button class=\"colab-df-convert\" onclick=\"convertToInteractive('df-1f31df74-152f-4f23-abbc-c96252d20300')\"\n",
              "              title=\"Convert this dataframe to an interactive table.\"\n",
              "              style=\"display:none;\">\n",
              "        \n",
              "  <svg xmlns=\"http://www.w3.org/2000/svg\" height=\"24px\"viewBox=\"0 0 24 24\"\n",
              "       width=\"24px\">\n",
              "    <path d=\"M0 0h24v24H0V0z\" fill=\"none\"/>\n",
              "    <path d=\"M18.56 5.44l.94 2.06.94-2.06 2.06-.94-2.06-.94-.94-2.06-.94 2.06-2.06.94zm-11 1L8.5 8.5l.94-2.06 2.06-.94-2.06-.94L8.5 2.5l-.94 2.06-2.06.94zm10 10l.94 2.06.94-2.06 2.06-.94-2.06-.94-.94-2.06-.94 2.06-2.06.94z\"/><path d=\"M17.41 7.96l-1.37-1.37c-.4-.4-.92-.59-1.43-.59-.52 0-1.04.2-1.43.59L10.3 9.45l-7.72 7.72c-.78.78-.78 2.05 0 2.83L4 21.41c.39.39.9.59 1.41.59.51 0 1.02-.2 1.41-.59l7.78-7.78 2.81-2.81c.8-.78.8-2.07 0-2.86zM5.41 20L4 18.59l7.72-7.72 1.47 1.35L5.41 20z\"/>\n",
              "  </svg>\n",
              "      </button>\n",
              "      \n",
              "  <style>\n",
              "    .colab-df-container {\n",
              "      display:flex;\n",
              "      flex-wrap:wrap;\n",
              "      gap: 12px;\n",
              "    }\n",
              "\n",
              "    .colab-df-convert {\n",
              "      background-color: #E8F0FE;\n",
              "      border: none;\n",
              "      border-radius: 50%;\n",
              "      cursor: pointer;\n",
              "      display: none;\n",
              "      fill: #1967D2;\n",
              "      height: 32px;\n",
              "      padding: 0 0 0 0;\n",
              "      width: 32px;\n",
              "    }\n",
              "\n",
              "    .colab-df-convert:hover {\n",
              "      background-color: #E2EBFA;\n",
              "      box-shadow: 0px 1px 2px rgba(60, 64, 67, 0.3), 0px 1px 3px 1px rgba(60, 64, 67, 0.15);\n",
              "      fill: #174EA6;\n",
              "    }\n",
              "\n",
              "    [theme=dark] .colab-df-convert {\n",
              "      background-color: #3B4455;\n",
              "      fill: #D2E3FC;\n",
              "    }\n",
              "\n",
              "    [theme=dark] .colab-df-convert:hover {\n",
              "      background-color: #434B5C;\n",
              "      box-shadow: 0px 1px 3px 1px rgba(0, 0, 0, 0.15);\n",
              "      filter: drop-shadow(0px 1px 2px rgba(0, 0, 0, 0.3));\n",
              "      fill: #FFFFFF;\n",
              "    }\n",
              "  </style>\n",
              "\n",
              "      <script>\n",
              "        const buttonEl =\n",
              "          document.querySelector('#df-1f31df74-152f-4f23-abbc-c96252d20300 button.colab-df-convert');\n",
              "        buttonEl.style.display =\n",
              "          google.colab.kernel.accessAllowed ? 'block' : 'none';\n",
              "\n",
              "        async function convertToInteractive(key) {\n",
              "          const element = document.querySelector('#df-1f31df74-152f-4f23-abbc-c96252d20300');\n",
              "          const dataTable =\n",
              "            await google.colab.kernel.invokeFunction('convertToInteractive',\n",
              "                                                     [key], {});\n",
              "          if (!dataTable) return;\n",
              "\n",
              "          const docLinkHtml = 'Like what you see? Visit the ' +\n",
              "            '<a target=\"_blank\" href=https://colab.research.google.com/notebooks/data_table.ipynb>data table notebook</a>'\n",
              "            + ' to learn more about interactive tables.';\n",
              "          element.innerHTML = '';\n",
              "          dataTable['output_type'] = 'display_data';\n",
              "          await google.colab.output.renderOutput(dataTable, element);\n",
              "          const docLink = document.createElement('div');\n",
              "          docLink.innerHTML = docLinkHtml;\n",
              "          element.appendChild(docLink);\n",
              "        }\n",
              "      </script>\n",
              "    </div>\n",
              "  </div>\n",
              "  "
            ]
          },
          "metadata": {},
          "execution_count": 323
        }
      ]
    },
    {
      "cell_type": "markdown",
      "source": [
        "***Visualization for our dataset***"
      ],
      "metadata": {
        "id": "a93E3KGutFIP"
      }
    },
    {
      "cell_type": "code",
      "source": [
        "import plotly.express as px\n",
        "data_hist = px.histogram(qa_df, y='Text', nbins=10, width=2000, height=550)\n",
        "data_hist"
      ],
      "metadata": {
        "colab": {
          "base_uri": "https://localhost:8080/",
          "height": 587
        },
        "id": "bh-9l0U9tKKa",
        "outputId": "0fd8c81a-cbc3-4470-c091-809db36339f8"
      },
      "execution_count": 324,
      "outputs": [
        {
          "output_type": "display_data",
          "data": {
            "text/html": [
              "<html>\n",
              "<head><meta charset=\"utf-8\" /></head>\n",
              "<body>\n",
              "    <div>            <script src=\"https://cdnjs.cloudflare.com/ajax/libs/mathjax/2.7.5/MathJax.js?config=TeX-AMS-MML_SVG\"></script><script type=\"text/javascript\">if (window.MathJax && window.MathJax.Hub && window.MathJax.Hub.Config) {window.MathJax.Hub.Config({SVG: {font: \"STIX-Web\"}});}</script>                <script type=\"text/javascript\">window.PlotlyConfig = {MathJaxConfig: 'local'};</script>\n",
              "        <script src=\"https://cdn.plot.ly/plotly-2.18.2.min.js\"></script>                <div id=\"8f387879-e72a-4b50-ac2e-b88bb61c6e37\" class=\"plotly-graph-div\" style=\"height:550px; width:2000px;\"></div>            <script type=\"text/javascript\">                                    window.PLOTLYENV=window.PLOTLYENV || {};                                    if (document.getElementById(\"8f387879-e72a-4b50-ac2e-b88bb61c6e37\")) {                    Plotly.newPlot(                        \"8f387879-e72a-4b50-ac2e-b88bb61c6e37\",                        [{\"alignmentgroup\":\"True\",\"bingroup\":\"y\",\"hovertemplate\":\"count=%{x}<br>Text=%{y}<extra></extra>\",\"legendgroup\":\"\",\"marker\":{\"color\":\"#636efa\",\"pattern\":{\"shape\":\"\"}},\"name\":\"\",\"nbinsy\":10,\"offsetgroup\":\"\",\"orientation\":\"h\",\"showlegend\":false,\"xaxis\":\"x\",\"y\":[\"Details regarding the rechargeable Lithium Polymer Battery. \",\"Details regarding the fuel gauge hardware for the lithium polymer battery. The battery charge shall be displayed to the user. \",\"Details regarding the pressure sensors for use in conjunction with the ideal gas law. \",\"Details regarding the size and weight of the pump. \",\"Details regarding the full color touchscreen. \",\"The pump shall include a rechargeable Lithium Polymer Battery. \",\"The pump shall include fuel gauge hardware for the lithium polymer battery. The battery charge shall be displayed to the user. \",\"The pump shall include pressure sensors for use in conjunction with the ideal gas law. The gas law shall be used to estimate remaining insulin volume. \",\"The pump shall weight no more than 8 ounces dry. \",\"The pump shall fit within a volume of 3\\u201d by 2\\u201d by 0.75\\u201d. \",\"The pump shall include a full color touchscreen. \",\"Test 100 \",\"Test 200 \",\"Test 300 \",\"Test 400 \",\"Test 500 \",\"Test 1100 \",\"Test 1200 \",\"Test 1300 \",\"Test 1400 \",\"Test 1500 \",\"Test 100 \",\"Test 200 \",\"Test 300 \",\"Test 400 \",\"Test 500 \",\"Test 1100 \",\"Test 1200 \",\"Test 1300 \",\"Test 1400 \",\"Test 1500 \",\"The pump shall provide both a bolus and basal feature. \",\"The pump shall limit boluses to not exceed 25 units. \",\"The pump shall limit boluses to not exceed 15 units/hour. \",\"The software shall provide a programmable correction factor feature. \",\"The software shall provide a programmable carb ratio feature. \",\"The software shall provide a reverse correction feature for the bolus calculator.  \",\"The software shall provide a means for the user to select between at least five different European human languages. \",\"The pump shall include a rechargeable Lithium Polymer Battery. \",\"The pump shall include fuel gauge hardware for the lithium polymer battery. The battery charge shall be displayed to the user.  \",\"The pump shall include pressure sensors for use in conjunction with the ideal gas law. The gas law shall be used to estimate remaining insulin volume.  \",\"The pump shall weight no more than 8 ounces dry. \",\"The pump shall fit within a volume of 3\\u201d by 2\\u201d by 0.75\\u201d. \",\"The pump shall include a full color touchscreen. \",\"The pump shall include an automated dosing algorithm. \",\"The pump shall deliver no bolus larger than 25 units.\",\"The pump shall deliver no basal rate larger than 15 units/hr.\",\"The bolus calculator shall provide reverse correction. \",\"The pump shall display remaining battery charge.\",\"The pump shall display remaining insulin volume.\",\"Here are details of how the bolus calculator works \\u2026.         \",\"Here are details of how the basal rate works \\u2026. \",\"Here are details of how the PID algorithm works \\u2026.     \",\"Here are details of how the GUI works\\u2026.  \",\"Here are details of how the remaining insulin estimation works\\u2026 include lots of math \\u2026. \",\"Here are details of how the human languages are swapped around \",\"Here are details of how the battery estimation works \",\"The software shall provide a bolus feature which generates boluses in the range of 0.01 to 25 units, which an increment of 0.01 units.  \",\"The software shall provide a programmable basal rate feature, with basal rates in the range of 0.001 to 15 units/hour in increments of 0.001 u/hr. \",\"The software shall provide a programmable correction factor feature. The software shall support correction factors in the range of 1:10 to 1:600 u/mg/dL. \",\"The software shall provide a programmable carb ratio feature. The software shall support carb ratios in the range of 1:10 to 1:600 u/g. \",\"The software shall provide a means for the user to select between English, German, French, Spanish, and Czech. \",\"The GUI shall indicate percent battery charge. The charge shall be displayed in increments of 1%.\",\"The software shall provide a bolus calculator feature. \",\"The bolus size shall be estimated as the sum of the insulin needed to cover the current meal  and correct down to 110 mg/dL. If the sum is negative, the bolus is aborted. \",\"The amount of insulin needed to cover the meal shall be estimated only when the user indicates a meal was consumed. The volume of insulin shall be estimated as the number of carbs divided by the CarbRatio.  \",\"The amount of insulin needed to correct glucose levels shall be estimated by the following formula if and only if the glucose is greater than 110:  \",\"The value of CorrectionBolus shall be set to zero when the glucose is between 80 and 110 mg/dL, inclusive. \",\"The amount of insulin needed to correct glucose levels shall be estimated by the following formula if and only if the glucose is less than 80. Please note that in this case, the dose amount is a negative number.  \",\"The dosing algorithm shall include a proportional gain term. The algorithm shall allow proportional gains in the range of 0 to 2.0 in increments of 0.001  \",\"The dosing algorithm shall include a derivative gain term. The algorithm shall allow derivative gains in the range of 0 to 2.0 in increments of 0.001 \",\"The dosing algorithm shall include an integral gain term. The algorithm shall allow integral gains in the range of 0 to 2.0 in increments of 0.001 \",\"The dosing algorithm shall include an integrator window to minimize limit-cycling. The window shall be settable at compile time to a range of 0.002 to 0.01 in increments of 0.001  \",\"The dosing algorithm shall include anti-windup reset protection.  \",\"This test validates bolus features\\u2026 blah, blah, blah        \",\"This test validates basal features\\u2026 blah, blah, blah \",\"This test validates the GUI, including human languages\\u2026 blah, blah, blah    \",\"This test validates remaining volume estimation\\u2026 blah, blah, blah  \",\"This test validates remaining volume estimation\\u2026 blah, blah, blah      \",\"Test 100 \",\"Test 200 \",\"Test 300 \",\"Test 400 \",\"Test 500 \",\"Unit Test for pump_aaa.c,h \",\"Unit Test for pump_bbb.c,h \",\"Unit Test for pump_ccc.c,h \",\"Unit Test for pump_ddd.c,h \",\"Unit Test for pump_eee.c,h \",\"Unit Test for pump_fff.c,h \",\"Unit Test for pump_ggg.c,h \",\"Unit Test for pump_hhh.c,h \",\"Unit Test for pump_iii.c,h \",\"Unit Test for pump_jjj.c,h \",\"Unit Test for pump_kkk.c,h \",\"Unit Test for pump_lll.c,h \",\"Unit Test for pump_mmm.c,h \",\"Code Inspection Test for pump_aaa.c,h \",\"Code Inspection Test for pump_bbb.c,h \",\"Code Inspection Test for pump_ccc.c,h \",\"Code Inspection Test for pump_ddd.c,h \",\"Code Inspection Test for pump_eee.c,h \",\"Code Inspection Test for pump_fff.c,h \",\"Code Inspection Test for pump_ggg.c,h \",\"Code Inspection Test for pump_hhh.c,h \",\"Code Inspection Test for pump_iii.c,h \",\"Code Inspection Test for pump_jjj.c,h \",\"Code Inspection Test for pump_kkk.c,h \",\"Code Inspection Test for pump_lll.c,h \",\"Code Inspection Test for pump_mmm.c,h \",\"The pump shall provide both a bolus and basal feature.\",\"The software shall provide a bolus calculator which is supported by programmable correction factors and carb ratios.\",\"The software shall provide a reverse correction feature for the bolus calculator. \",\"The software shall provide a means for the user to select between at least five different European human languages.\",\"The pump shall include a rechargeable Battery. \",\"The pump shall display remaining battery charge.\",\"The pump shall display remaining insulin volume.\",\"The pump shall be small and lightweight.\",\"The pump shall be easy to use.\",\"The pump shall include an automated dosing algorithm.\"],\"yaxis\":\"y\",\"type\":\"histogram\"}],                        {\"template\":{\"data\":{\"histogram2dcontour\":[{\"type\":\"histogram2dcontour\",\"colorbar\":{\"outlinewidth\":0,\"ticks\":\"\"},\"colorscale\":[[0.0,\"#0d0887\"],[0.1111111111111111,\"#46039f\"],[0.2222222222222222,\"#7201a8\"],[0.3333333333333333,\"#9c179e\"],[0.4444444444444444,\"#bd3786\"],[0.5555555555555556,\"#d8576b\"],[0.6666666666666666,\"#ed7953\"],[0.7777777777777778,\"#fb9f3a\"],[0.8888888888888888,\"#fdca26\"],[1.0,\"#f0f921\"]]}],\"choropleth\":[{\"type\":\"choropleth\",\"colorbar\":{\"outlinewidth\":0,\"ticks\":\"\"}}],\"histogram2d\":[{\"type\":\"histogram2d\",\"colorbar\":{\"outlinewidth\":0,\"ticks\":\"\"},\"colorscale\":[[0.0,\"#0d0887\"],[0.1111111111111111,\"#46039f\"],[0.2222222222222222,\"#7201a8\"],[0.3333333333333333,\"#9c179e\"],[0.4444444444444444,\"#bd3786\"],[0.5555555555555556,\"#d8576b\"],[0.6666666666666666,\"#ed7953\"],[0.7777777777777778,\"#fb9f3a\"],[0.8888888888888888,\"#fdca26\"],[1.0,\"#f0f921\"]]}],\"heatmap\":[{\"type\":\"heatmap\",\"colorbar\":{\"outlinewidth\":0,\"ticks\":\"\"},\"colorscale\":[[0.0,\"#0d0887\"],[0.1111111111111111,\"#46039f\"],[0.2222222222222222,\"#7201a8\"],[0.3333333333333333,\"#9c179e\"],[0.4444444444444444,\"#bd3786\"],[0.5555555555555556,\"#d8576b\"],[0.6666666666666666,\"#ed7953\"],[0.7777777777777778,\"#fb9f3a\"],[0.8888888888888888,\"#fdca26\"],[1.0,\"#f0f921\"]]}],\"heatmapgl\":[{\"type\":\"heatmapgl\",\"colorbar\":{\"outlinewidth\":0,\"ticks\":\"\"},\"colorscale\":[[0.0,\"#0d0887\"],[0.1111111111111111,\"#46039f\"],[0.2222222222222222,\"#7201a8\"],[0.3333333333333333,\"#9c179e\"],[0.4444444444444444,\"#bd3786\"],[0.5555555555555556,\"#d8576b\"],[0.6666666666666666,\"#ed7953\"],[0.7777777777777778,\"#fb9f3a\"],[0.8888888888888888,\"#fdca26\"],[1.0,\"#f0f921\"]]}],\"contourcarpet\":[{\"type\":\"contourcarpet\",\"colorbar\":{\"outlinewidth\":0,\"ticks\":\"\"}}],\"contour\":[{\"type\":\"contour\",\"colorbar\":{\"outlinewidth\":0,\"ticks\":\"\"},\"colorscale\":[[0.0,\"#0d0887\"],[0.1111111111111111,\"#46039f\"],[0.2222222222222222,\"#7201a8\"],[0.3333333333333333,\"#9c179e\"],[0.4444444444444444,\"#bd3786\"],[0.5555555555555556,\"#d8576b\"],[0.6666666666666666,\"#ed7953\"],[0.7777777777777778,\"#fb9f3a\"],[0.8888888888888888,\"#fdca26\"],[1.0,\"#f0f921\"]]}],\"surface\":[{\"type\":\"surface\",\"colorbar\":{\"outlinewidth\":0,\"ticks\":\"\"},\"colorscale\":[[0.0,\"#0d0887\"],[0.1111111111111111,\"#46039f\"],[0.2222222222222222,\"#7201a8\"],[0.3333333333333333,\"#9c179e\"],[0.4444444444444444,\"#bd3786\"],[0.5555555555555556,\"#d8576b\"],[0.6666666666666666,\"#ed7953\"],[0.7777777777777778,\"#fb9f3a\"],[0.8888888888888888,\"#fdca26\"],[1.0,\"#f0f921\"]]}],\"mesh3d\":[{\"type\":\"mesh3d\",\"colorbar\":{\"outlinewidth\":0,\"ticks\":\"\"}}],\"scatter\":[{\"fillpattern\":{\"fillmode\":\"overlay\",\"size\":10,\"solidity\":0.2},\"type\":\"scatter\"}],\"parcoords\":[{\"type\":\"parcoords\",\"line\":{\"colorbar\":{\"outlinewidth\":0,\"ticks\":\"\"}}}],\"scatterpolargl\":[{\"type\":\"scatterpolargl\",\"marker\":{\"colorbar\":{\"outlinewidth\":0,\"ticks\":\"\"}}}],\"bar\":[{\"error_x\":{\"color\":\"#2a3f5f\"},\"error_y\":{\"color\":\"#2a3f5f\"},\"marker\":{\"line\":{\"color\":\"#E5ECF6\",\"width\":0.5},\"pattern\":{\"fillmode\":\"overlay\",\"size\":10,\"solidity\":0.2}},\"type\":\"bar\"}],\"scattergeo\":[{\"type\":\"scattergeo\",\"marker\":{\"colorbar\":{\"outlinewidth\":0,\"ticks\":\"\"}}}],\"scatterpolar\":[{\"type\":\"scatterpolar\",\"marker\":{\"colorbar\":{\"outlinewidth\":0,\"ticks\":\"\"}}}],\"histogram\":[{\"marker\":{\"pattern\":{\"fillmode\":\"overlay\",\"size\":10,\"solidity\":0.2}},\"type\":\"histogram\"}],\"scattergl\":[{\"type\":\"scattergl\",\"marker\":{\"colorbar\":{\"outlinewidth\":0,\"ticks\":\"\"}}}],\"scatter3d\":[{\"type\":\"scatter3d\",\"line\":{\"colorbar\":{\"outlinewidth\":0,\"ticks\":\"\"}},\"marker\":{\"colorbar\":{\"outlinewidth\":0,\"ticks\":\"\"}}}],\"scattermapbox\":[{\"type\":\"scattermapbox\",\"marker\":{\"colorbar\":{\"outlinewidth\":0,\"ticks\":\"\"}}}],\"scatterternary\":[{\"type\":\"scatterternary\",\"marker\":{\"colorbar\":{\"outlinewidth\":0,\"ticks\":\"\"}}}],\"scattercarpet\":[{\"type\":\"scattercarpet\",\"marker\":{\"colorbar\":{\"outlinewidth\":0,\"ticks\":\"\"}}}],\"carpet\":[{\"aaxis\":{\"endlinecolor\":\"#2a3f5f\",\"gridcolor\":\"white\",\"linecolor\":\"white\",\"minorgridcolor\":\"white\",\"startlinecolor\":\"#2a3f5f\"},\"baxis\":{\"endlinecolor\":\"#2a3f5f\",\"gridcolor\":\"white\",\"linecolor\":\"white\",\"minorgridcolor\":\"white\",\"startlinecolor\":\"#2a3f5f\"},\"type\":\"carpet\"}],\"table\":[{\"cells\":{\"fill\":{\"color\":\"#EBF0F8\"},\"line\":{\"color\":\"white\"}},\"header\":{\"fill\":{\"color\":\"#C8D4E3\"},\"line\":{\"color\":\"white\"}},\"type\":\"table\"}],\"barpolar\":[{\"marker\":{\"line\":{\"color\":\"#E5ECF6\",\"width\":0.5},\"pattern\":{\"fillmode\":\"overlay\",\"size\":10,\"solidity\":0.2}},\"type\":\"barpolar\"}],\"pie\":[{\"automargin\":true,\"type\":\"pie\"}]},\"layout\":{\"autotypenumbers\":\"strict\",\"colorway\":[\"#636efa\",\"#EF553B\",\"#00cc96\",\"#ab63fa\",\"#FFA15A\",\"#19d3f3\",\"#FF6692\",\"#B6E880\",\"#FF97FF\",\"#FECB52\"],\"font\":{\"color\":\"#2a3f5f\"},\"hovermode\":\"closest\",\"hoverlabel\":{\"align\":\"left\"},\"paper_bgcolor\":\"white\",\"plot_bgcolor\":\"#E5ECF6\",\"polar\":{\"bgcolor\":\"#E5ECF6\",\"angularaxis\":{\"gridcolor\":\"white\",\"linecolor\":\"white\",\"ticks\":\"\"},\"radialaxis\":{\"gridcolor\":\"white\",\"linecolor\":\"white\",\"ticks\":\"\"}},\"ternary\":{\"bgcolor\":\"#E5ECF6\",\"aaxis\":{\"gridcolor\":\"white\",\"linecolor\":\"white\",\"ticks\":\"\"},\"baxis\":{\"gridcolor\":\"white\",\"linecolor\":\"white\",\"ticks\":\"\"},\"caxis\":{\"gridcolor\":\"white\",\"linecolor\":\"white\",\"ticks\":\"\"}},\"coloraxis\":{\"colorbar\":{\"outlinewidth\":0,\"ticks\":\"\"}},\"colorscale\":{\"sequential\":[[0.0,\"#0d0887\"],[0.1111111111111111,\"#46039f\"],[0.2222222222222222,\"#7201a8\"],[0.3333333333333333,\"#9c179e\"],[0.4444444444444444,\"#bd3786\"],[0.5555555555555556,\"#d8576b\"],[0.6666666666666666,\"#ed7953\"],[0.7777777777777778,\"#fb9f3a\"],[0.8888888888888888,\"#fdca26\"],[1.0,\"#f0f921\"]],\"sequentialminus\":[[0.0,\"#0d0887\"],[0.1111111111111111,\"#46039f\"],[0.2222222222222222,\"#7201a8\"],[0.3333333333333333,\"#9c179e\"],[0.4444444444444444,\"#bd3786\"],[0.5555555555555556,\"#d8576b\"],[0.6666666666666666,\"#ed7953\"],[0.7777777777777778,\"#fb9f3a\"],[0.8888888888888888,\"#fdca26\"],[1.0,\"#f0f921\"]],\"diverging\":[[0,\"#8e0152\"],[0.1,\"#c51b7d\"],[0.2,\"#de77ae\"],[0.3,\"#f1b6da\"],[0.4,\"#fde0ef\"],[0.5,\"#f7f7f7\"],[0.6,\"#e6f5d0\"],[0.7,\"#b8e186\"],[0.8,\"#7fbc41\"],[0.9,\"#4d9221\"],[1,\"#276419\"]]},\"xaxis\":{\"gridcolor\":\"white\",\"linecolor\":\"white\",\"ticks\":\"\",\"title\":{\"standoff\":15},\"zerolinecolor\":\"white\",\"automargin\":true,\"zerolinewidth\":2},\"yaxis\":{\"gridcolor\":\"white\",\"linecolor\":\"white\",\"ticks\":\"\",\"title\":{\"standoff\":15},\"zerolinecolor\":\"white\",\"automargin\":true,\"zerolinewidth\":2},\"scene\":{\"xaxis\":{\"backgroundcolor\":\"#E5ECF6\",\"gridcolor\":\"white\",\"linecolor\":\"white\",\"showbackground\":true,\"ticks\":\"\",\"zerolinecolor\":\"white\",\"gridwidth\":2},\"yaxis\":{\"backgroundcolor\":\"#E5ECF6\",\"gridcolor\":\"white\",\"linecolor\":\"white\",\"showbackground\":true,\"ticks\":\"\",\"zerolinecolor\":\"white\",\"gridwidth\":2},\"zaxis\":{\"backgroundcolor\":\"#E5ECF6\",\"gridcolor\":\"white\",\"linecolor\":\"white\",\"showbackground\":true,\"ticks\":\"\",\"zerolinecolor\":\"white\",\"gridwidth\":2}},\"shapedefaults\":{\"line\":{\"color\":\"#2a3f5f\"}},\"annotationdefaults\":{\"arrowcolor\":\"#2a3f5f\",\"arrowhead\":0,\"arrowwidth\":1},\"geo\":{\"bgcolor\":\"white\",\"landcolor\":\"#E5ECF6\",\"subunitcolor\":\"white\",\"showland\":true,\"showlakes\":true,\"lakecolor\":\"white\"},\"title\":{\"x\":0.05},\"mapbox\":{\"style\":\"light\"}}},\"xaxis\":{\"anchor\":\"y\",\"domain\":[0.0,1.0],\"title\":{\"text\":\"count\"}},\"yaxis\":{\"anchor\":\"x\",\"domain\":[0.0,1.0],\"title\":{\"text\":\"Text\"}},\"legend\":{\"tracegroupgap\":0},\"margin\":{\"t\":60},\"barmode\":\"relative\",\"height\":550,\"width\":2000},                        {\"responsive\": true}                    ).then(function(){\n",
              "                            \n",
              "var gd = document.getElementById('8f387879-e72a-4b50-ac2e-b88bb61c6e37');\n",
              "var x = new MutationObserver(function (mutations, observer) {{\n",
              "        var display = window.getComputedStyle(gd).display;\n",
              "        if (!display || display === 'none') {{\n",
              "            console.log([gd, 'removed!']);\n",
              "            Plotly.purge(gd);\n",
              "            observer.disconnect();\n",
              "        }}\n",
              "}});\n",
              "\n",
              "// Listen for the removal of the full notebook cells\n",
              "var notebookContainer = gd.closest('#notebook-container');\n",
              "if (notebookContainer) {{\n",
              "    x.observe(notebookContainer, {childList: true});\n",
              "}}\n",
              "\n",
              "// Listen for the clearing of the current output cell\n",
              "var outputEl = gd.closest('.output');\n",
              "if (outputEl) {{\n",
              "    x.observe(outputEl, {childList: true});\n",
              "}}\n",
              "\n",
              "                        })                };                            </script>        </div>\n",
              "</body>\n",
              "</html>"
            ]
          },
          "metadata": {}
        }
      ]
    },
    {
      "cell_type": "markdown",
      "source": [
        "With this histogram we can see that the requirement text isnt being linked to no more than 3 tags. We can determine that this leads to effective tracing and relation organizing. "
      ],
      "metadata": {
        "id": "zJpesq5UuOsA"
      }
    },
    {
      "cell_type": "code",
      "source": [
        "dropper_scatter = px.scatter(qa_df, y='Child Tag', x='Parent Tag', width=1000, height=1050)\n",
        "dropper_scatter"
      ],
      "metadata": {
        "colab": {
          "base_uri": "https://localhost:8080/",
          "height": 1000
        },
        "id": "TEOyhHVcuaaJ",
        "outputId": "f2613228-d282-4c10-fe1e-86988118b6f3"
      },
      "execution_count": 325,
      "outputs": [
        {
          "output_type": "display_data",
          "data": {
            "text/html": [
              "<html>\n",
              "<head><meta charset=\"utf-8\" /></head>\n",
              "<body>\n",
              "    <div>            <script src=\"https://cdnjs.cloudflare.com/ajax/libs/mathjax/2.7.5/MathJax.js?config=TeX-AMS-MML_SVG\"></script><script type=\"text/javascript\">if (window.MathJax && window.MathJax.Hub && window.MathJax.Hub.Config) {window.MathJax.Hub.Config({SVG: {font: \"STIX-Web\"}});}</script>                <script type=\"text/javascript\">window.PlotlyConfig = {MathJaxConfig: 'local'};</script>\n",
              "        <script src=\"https://cdn.plot.ly/plotly-2.18.2.min.js\"></script>                <div id=\"d2ffe834-2ae6-4d33-a4a2-4a39ab38a66c\" class=\"plotly-graph-div\" style=\"height:1050px; width:1000px;\"></div>            <script type=\"text/javascript\">                                    window.PLOTLYENV=window.PLOTLYENV || {};                                    if (document.getElementById(\"d2ffe834-2ae6-4d33-a4a2-4a39ab38a66c\")) {                    Plotly.newPlot(                        \"d2ffe834-2ae6-4d33-a4a2-4a39ab38a66c\",                        [{\"hovertemplate\":\"Parent Tag=%{x}<br>Child Tag=%{y}<extra></extra>\",\"legendgroup\":\"\",\"marker\":{\"color\":\"#636efa\",\"symbol\":\"circle\"},\"mode\":\"markers\",\"name\":\"\",\"orientation\":\"v\",\"showlegend\":false,\"x\":[\"[PUMP:HRS:100]\",\"[PUMP:HRS:103]\",\"[PUMP:HRS:1000]\",\"[PUMP:HRS:3330]\",\"[PUMP:HRS:3350]\",\"[PUMP:PRS:100]\",\"[PUMP:PRS:103]\",\"[PUMP:PRS:1000]\",\"[PUMP:PRS:3330]\",\"[PUMP:PRS:3330]\",\"[PUMP:PRS:3350]\",\"[PUMP:HRS:100]\",\"[PUMP:HRS:105]\",\"[PUMP:HRS:1000]\",\"[PUMP:HRS:3330]\",\"[PUMP:HRS:3350]\",\"[PUMP:HRD:100]\",\"[PUMP:HRD:105]\",\"[PUMP:HRD:1000]\",\"[PUMP:HRD:3330]\",\"[PUMP:HRD:3350]\",\"[PUMP:HTP:100]\",\"[PUMP:HTP:200]\",\"[PUMP:HTP:300]\",\"[PUMP:HTP:400]\",\"[PUMP:HTP:500]\",\"[PUMP:HTP:1100]\",\"[PUMP:HTP:1200]\",\"[PUMP:HTP:1300]\",\"[PUMP:HTP:1400]\",\"[PUMP:HTP:1500]\",\"[PUMP:URS:1]\",\"[PUMP:RISK:10]\",\"[PUMP:RISK:20]\",\"[PUMP:URS:3]\",\"[PUMP:URS:3]\",\"[PUMP:URS:8] [PUMP:RISK:30]\",\"[PUMP:URS:10]\",\"[PUMP:URS:100]\",\"[PUMP:URS:103] [PUMP:RISK:40]\",\"[PUMP:URS:1000] [PUMP:RISK:50]\",\"[PUMP:URS:3330]\",\"[PUMP:URS:3330]\",\"[PUMP:URS:3350]\",\"[PUMP:URS:4000]\",null,null,null,null,null,\"[BOLUS:SRS:1] [BOLUS:SRS:2] [BOLUS:SRS:5] [BOLUS:SRS:6] [BOLUS:SRS:8] [BOLUS:SRS:12] [ACE:SRS:1] [ACE:SRS:5] [ACE:SRS:6]\",\"[ACE:SRS:2]\",\"[AID:SRS:1] [AID:SRS:2] [AID:SRS:10] [AID:SRS:12] [AID:SRS:20]\",\"[ACE:SRS:110] [ACE:SRS:120]\",\"[ACE:SRS:110]\",\"[ACE:SRS:10]\",\"[ACE:SRS:100]\",\"[PUMP:PRS:1] [PUMP:TBV:1]\",\"[PUMP:PRS:1]\",\"[PUMP:PRS:5]\",\"[PUMP:PRS:6]\",\"[PUMP:PRS:10]\",\"[PUMP:PRS:105]\",\"[PUMP:PRS:1]\",\"[PUMP:PRS:1][PUMP:TBD:1]\",\"[PUMP:PRS:1] [PUMP:PRS:5]\",\"[PUMP:PRS:1] [PUMP:PRS:3]\",\"[PUMP:PRS:1]\",\"[PUMP:PRS:1] [PUMP:PRS:8]\",\"[PUMP:PRS:4000] [PUMP:DER:2]\",\"[PUMP:PRS:4000] [PUMP:DER:2]\",\"[PUMP:PRS:4000] [PUMP:DER:2]\",\"[PUMP:PRS:4000] [PUMP:DER:2]\",\"[PUMP:PRS:4000] [PUMP:DER:2]\",\"[ACE:SRS:1] [ACE:SRS:5] [ACE:SRS:6] [BOLUS:SRS:1] [BOLUS:SRS:2] [BOLUS:SRS:5] [BOLUS:SRS:6] [BOLUS:SRS:8]\",\"[ACE:SRS:2]\",\"[ACE:SRS:10] [ACE:SRS:100] [ACE:SRS:1000] [ACE:SRS:120]\",\"[BOLUS:SRS:12]\",\"[AID:SRS:1] [AID:SRS:2] [AID:SRS:10] [AID:SRS:12] [AID:SRS:20]\",\"[PUMP:SVAL:100]\",\"[PUMP:SVAL:200]\",\"[PUMP:SVAL:300]\",\"[PUMP:SVAL:400]\",\"[PUMP:SVAL:500]\",\"[PUMP:UNIT:100]\",\"[PUMP:UNIT:110]\",\"[PUMP:UNIT:120]\",\"[PUMP:UNIT:130]\",\"[PUMP:UNIT:140]\",\"[PUMP:UNIT:150]\",\"[PUMP:UNIT:160]\",\"[PUMP:UNIT:170]\",\"[PUMP:UNIT:180]\",\"[PUMP:UNIT:190]\",\"[PUMP:UNIT:200]\",\"[PUMP:UNIT:210]\",\"[PUMP:UNIT:220]\",\"[PUMP:UNIT:100]\",\"[PUMP:UNIT:110]\",\"[PUMP:UNIT:120]\",\"[PUMP:UNIT:130]\",\"[PUMP:UNIT:140]\",\"[PUMP:UNIT:150]\",\"[PUMP:UNIT:160]\",\"[PUMP:UNIT:170]\",\"[PUMP:UNIT:180]\",\"[PUMP:UNIT:190]\",\"[PUMP:UNIT:200]\",\"[PUMP:UNIT:210]\",\"[PUMP:UNIT:220]\",null,null,null,null,null,null,null,null,null,null],\"xaxis\":\"x\",\"y\":[\"PUMP:HRD:100\",\"PUMP:HRD:105\",\"PUMP:HRD:1000\",\"PUMP:HRD:3330\",\"PUMP:HRD:3350\",\"PUMP:HRS:100\",\"PUMP:HRS:105\",\"PUMP:HRS:1000\",\"PUMP:HRS:3330\",\"PUMP:HRS:3340\",\"PUMP:HRS:3350\",\"PUMP:HTP:100\",\"PUMP:HTP:200\",\"PUMP:HTP:300\",\"PUMP:HTP:400\",\"PUMP:HTP:500\",\"PUMP:HTP:1100\",\"PUMP:HTP:1200\",\"PUMP:HTP:1300\",\"PUMP:HTP:1400\",\"PUMP:HTP:1500\",\"PUMP:HTR:100\",\"PUMP:HTR:200\",\"PUMP:HTR:300\",\"PUMP:HTR:400\",\"PUMP:HTR:500\",\"PUMP:HTR:1100\",\"PUMP:HTR:1200\",\"PUMP:HTR:1300\",\"PUMP:HTR:1400\",\"PUMP:HTR:1500\",\"PUMP:PRS:1\",\"PUMP:PRS:2\",\"PUMP:PRS:3\",\"PUMP:PRS:4\",\"PUMP:PRS:5\",\"PUMP:PRS:8\",\"PUMP:PRS:10\",\"PUMP:PRS:100\",\"PUMP:PRS:105\",\"PUMP:PRS:1000\",\"PUMP:PRS:3330\",\"PUMP:PRS:3340\",\"PUMP:PRS:3350\",\"PUMP:PRS:4000\",\"PUMP:RISK:10\",\"PUMP:RISK:20\",\"PUMP:RISK:30\",\"PUMP:RISK:40\",\"PUMP:RISK:50\",\"PUMP:SDS:10\",\"PUMP:SDS:20\",\"PUMP:SDS:30\",\"PUMP:SDS:40\",\"PUMP:SDS:50\",\"PUMP:SDS:60\",\"PUMP:SDS:70\",\"ACE:SRS:1\",\"ACE:SRS:2\",\"ACE:SRS:5\",\"ACE:SRS:6\",\"ACE:SRS:10\",\"ACE:SRS:100\",\"BOLUS:SRS:1\",\"BOLUS:SRS:2\",\"BOLUS:SRS:5\",\"BOLUS:SRS:6\",\"BOLUS:SRS:8\",\"BOLUS:SRS:12\",\"AID:SRS:1\",\"AID:SRS:2\",\"AID:SRS:10\",\"AID:SRS:12\",\"AID:SRS:20\",\"PUMP:SVAL:100\",\"PUMP:SVAL:200\",\"PUMP:SVAL:300\",\"PUMP:SVAL:400\",\"PUMP:SVAL:500\",\"PUMP:SVATR:100\",\"PUMP:SVATR:200\",\"PUMP:SVATR:300\",\"PUMP:SVATR:400\",\"PUMP:SVATR:500\",\"PUMP:UT:100\",\"PUMP:UT:110\",\"PUMP:UT:120\",\"PUMP:UT:130\",\"PUMP:UT:140\",\"PUMP:UT:150\",\"PUMP:UT:160\",\"PUMP:UT:170\",\"PUMP:UT:180\",\"PUMP:UT:190\",\"PUMP:UT:200\",\"PUMP:UT:210\",\"PUMP:UT:220\",\"PUMP:INS:100\",\"PUMP:INS:110\",\"PUMP:INS:120\",\"PUMP:INS:130\",\"PUMP:INS:140\",\"PUMP:INS:150\",\"PUMP:INS:160\",\"PUMP:INS:170\",\"PUMP:INS:180\",\"PUMP:INS:190\",\"PUMP:INS:200\",\"PUMP:INS:210\",\"PUMP:INS:220\",\"PUMP:URS:1\",\"PUMP:URS:3\",\"PUMP:URS:8\",\"PUMP:URS:10\",\"PUMP:URS:100\",\"PUMP:URS:103\",\"PUMP:URS:1000\",\"PUMP:URS:3330\",\"PUMP:URS:3350\",\"PUMP:URS:4000\"],\"yaxis\":\"y\",\"type\":\"scatter\"}],                        {\"template\":{\"data\":{\"histogram2dcontour\":[{\"type\":\"histogram2dcontour\",\"colorbar\":{\"outlinewidth\":0,\"ticks\":\"\"},\"colorscale\":[[0.0,\"#0d0887\"],[0.1111111111111111,\"#46039f\"],[0.2222222222222222,\"#7201a8\"],[0.3333333333333333,\"#9c179e\"],[0.4444444444444444,\"#bd3786\"],[0.5555555555555556,\"#d8576b\"],[0.6666666666666666,\"#ed7953\"],[0.7777777777777778,\"#fb9f3a\"],[0.8888888888888888,\"#fdca26\"],[1.0,\"#f0f921\"]]}],\"choropleth\":[{\"type\":\"choropleth\",\"colorbar\":{\"outlinewidth\":0,\"ticks\":\"\"}}],\"histogram2d\":[{\"type\":\"histogram2d\",\"colorbar\":{\"outlinewidth\":0,\"ticks\":\"\"},\"colorscale\":[[0.0,\"#0d0887\"],[0.1111111111111111,\"#46039f\"],[0.2222222222222222,\"#7201a8\"],[0.3333333333333333,\"#9c179e\"],[0.4444444444444444,\"#bd3786\"],[0.5555555555555556,\"#d8576b\"],[0.6666666666666666,\"#ed7953\"],[0.7777777777777778,\"#fb9f3a\"],[0.8888888888888888,\"#fdca26\"],[1.0,\"#f0f921\"]]}],\"heatmap\":[{\"type\":\"heatmap\",\"colorbar\":{\"outlinewidth\":0,\"ticks\":\"\"},\"colorscale\":[[0.0,\"#0d0887\"],[0.1111111111111111,\"#46039f\"],[0.2222222222222222,\"#7201a8\"],[0.3333333333333333,\"#9c179e\"],[0.4444444444444444,\"#bd3786\"],[0.5555555555555556,\"#d8576b\"],[0.6666666666666666,\"#ed7953\"],[0.7777777777777778,\"#fb9f3a\"],[0.8888888888888888,\"#fdca26\"],[1.0,\"#f0f921\"]]}],\"heatmapgl\":[{\"type\":\"heatmapgl\",\"colorbar\":{\"outlinewidth\":0,\"ticks\":\"\"},\"colorscale\":[[0.0,\"#0d0887\"],[0.1111111111111111,\"#46039f\"],[0.2222222222222222,\"#7201a8\"],[0.3333333333333333,\"#9c179e\"],[0.4444444444444444,\"#bd3786\"],[0.5555555555555556,\"#d8576b\"],[0.6666666666666666,\"#ed7953\"],[0.7777777777777778,\"#fb9f3a\"],[0.8888888888888888,\"#fdca26\"],[1.0,\"#f0f921\"]]}],\"contourcarpet\":[{\"type\":\"contourcarpet\",\"colorbar\":{\"outlinewidth\":0,\"ticks\":\"\"}}],\"contour\":[{\"type\":\"contour\",\"colorbar\":{\"outlinewidth\":0,\"ticks\":\"\"},\"colorscale\":[[0.0,\"#0d0887\"],[0.1111111111111111,\"#46039f\"],[0.2222222222222222,\"#7201a8\"],[0.3333333333333333,\"#9c179e\"],[0.4444444444444444,\"#bd3786\"],[0.5555555555555556,\"#d8576b\"],[0.6666666666666666,\"#ed7953\"],[0.7777777777777778,\"#fb9f3a\"],[0.8888888888888888,\"#fdca26\"],[1.0,\"#f0f921\"]]}],\"surface\":[{\"type\":\"surface\",\"colorbar\":{\"outlinewidth\":0,\"ticks\":\"\"},\"colorscale\":[[0.0,\"#0d0887\"],[0.1111111111111111,\"#46039f\"],[0.2222222222222222,\"#7201a8\"],[0.3333333333333333,\"#9c179e\"],[0.4444444444444444,\"#bd3786\"],[0.5555555555555556,\"#d8576b\"],[0.6666666666666666,\"#ed7953\"],[0.7777777777777778,\"#fb9f3a\"],[0.8888888888888888,\"#fdca26\"],[1.0,\"#f0f921\"]]}],\"mesh3d\":[{\"type\":\"mesh3d\",\"colorbar\":{\"outlinewidth\":0,\"ticks\":\"\"}}],\"scatter\":[{\"fillpattern\":{\"fillmode\":\"overlay\",\"size\":10,\"solidity\":0.2},\"type\":\"scatter\"}],\"parcoords\":[{\"type\":\"parcoords\",\"line\":{\"colorbar\":{\"outlinewidth\":0,\"ticks\":\"\"}}}],\"scatterpolargl\":[{\"type\":\"scatterpolargl\",\"marker\":{\"colorbar\":{\"outlinewidth\":0,\"ticks\":\"\"}}}],\"bar\":[{\"error_x\":{\"color\":\"#2a3f5f\"},\"error_y\":{\"color\":\"#2a3f5f\"},\"marker\":{\"line\":{\"color\":\"#E5ECF6\",\"width\":0.5},\"pattern\":{\"fillmode\":\"overlay\",\"size\":10,\"solidity\":0.2}},\"type\":\"bar\"}],\"scattergeo\":[{\"type\":\"scattergeo\",\"marker\":{\"colorbar\":{\"outlinewidth\":0,\"ticks\":\"\"}}}],\"scatterpolar\":[{\"type\":\"scatterpolar\",\"marker\":{\"colorbar\":{\"outlinewidth\":0,\"ticks\":\"\"}}}],\"histogram\":[{\"marker\":{\"pattern\":{\"fillmode\":\"overlay\",\"size\":10,\"solidity\":0.2}},\"type\":\"histogram\"}],\"scattergl\":[{\"type\":\"scattergl\",\"marker\":{\"colorbar\":{\"outlinewidth\":0,\"ticks\":\"\"}}}],\"scatter3d\":[{\"type\":\"scatter3d\",\"line\":{\"colorbar\":{\"outlinewidth\":0,\"ticks\":\"\"}},\"marker\":{\"colorbar\":{\"outlinewidth\":0,\"ticks\":\"\"}}}],\"scattermapbox\":[{\"type\":\"scattermapbox\",\"marker\":{\"colorbar\":{\"outlinewidth\":0,\"ticks\":\"\"}}}],\"scatterternary\":[{\"type\":\"scatterternary\",\"marker\":{\"colorbar\":{\"outlinewidth\":0,\"ticks\":\"\"}}}],\"scattercarpet\":[{\"type\":\"scattercarpet\",\"marker\":{\"colorbar\":{\"outlinewidth\":0,\"ticks\":\"\"}}}],\"carpet\":[{\"aaxis\":{\"endlinecolor\":\"#2a3f5f\",\"gridcolor\":\"white\",\"linecolor\":\"white\",\"minorgridcolor\":\"white\",\"startlinecolor\":\"#2a3f5f\"},\"baxis\":{\"endlinecolor\":\"#2a3f5f\",\"gridcolor\":\"white\",\"linecolor\":\"white\",\"minorgridcolor\":\"white\",\"startlinecolor\":\"#2a3f5f\"},\"type\":\"carpet\"}],\"table\":[{\"cells\":{\"fill\":{\"color\":\"#EBF0F8\"},\"line\":{\"color\":\"white\"}},\"header\":{\"fill\":{\"color\":\"#C8D4E3\"},\"line\":{\"color\":\"white\"}},\"type\":\"table\"}],\"barpolar\":[{\"marker\":{\"line\":{\"color\":\"#E5ECF6\",\"width\":0.5},\"pattern\":{\"fillmode\":\"overlay\",\"size\":10,\"solidity\":0.2}},\"type\":\"barpolar\"}],\"pie\":[{\"automargin\":true,\"type\":\"pie\"}]},\"layout\":{\"autotypenumbers\":\"strict\",\"colorway\":[\"#636efa\",\"#EF553B\",\"#00cc96\",\"#ab63fa\",\"#FFA15A\",\"#19d3f3\",\"#FF6692\",\"#B6E880\",\"#FF97FF\",\"#FECB52\"],\"font\":{\"color\":\"#2a3f5f\"},\"hovermode\":\"closest\",\"hoverlabel\":{\"align\":\"left\"},\"paper_bgcolor\":\"white\",\"plot_bgcolor\":\"#E5ECF6\",\"polar\":{\"bgcolor\":\"#E5ECF6\",\"angularaxis\":{\"gridcolor\":\"white\",\"linecolor\":\"white\",\"ticks\":\"\"},\"radialaxis\":{\"gridcolor\":\"white\",\"linecolor\":\"white\",\"ticks\":\"\"}},\"ternary\":{\"bgcolor\":\"#E5ECF6\",\"aaxis\":{\"gridcolor\":\"white\",\"linecolor\":\"white\",\"ticks\":\"\"},\"baxis\":{\"gridcolor\":\"white\",\"linecolor\":\"white\",\"ticks\":\"\"},\"caxis\":{\"gridcolor\":\"white\",\"linecolor\":\"white\",\"ticks\":\"\"}},\"coloraxis\":{\"colorbar\":{\"outlinewidth\":0,\"ticks\":\"\"}},\"colorscale\":{\"sequential\":[[0.0,\"#0d0887\"],[0.1111111111111111,\"#46039f\"],[0.2222222222222222,\"#7201a8\"],[0.3333333333333333,\"#9c179e\"],[0.4444444444444444,\"#bd3786\"],[0.5555555555555556,\"#d8576b\"],[0.6666666666666666,\"#ed7953\"],[0.7777777777777778,\"#fb9f3a\"],[0.8888888888888888,\"#fdca26\"],[1.0,\"#f0f921\"]],\"sequentialminus\":[[0.0,\"#0d0887\"],[0.1111111111111111,\"#46039f\"],[0.2222222222222222,\"#7201a8\"],[0.3333333333333333,\"#9c179e\"],[0.4444444444444444,\"#bd3786\"],[0.5555555555555556,\"#d8576b\"],[0.6666666666666666,\"#ed7953\"],[0.7777777777777778,\"#fb9f3a\"],[0.8888888888888888,\"#fdca26\"],[1.0,\"#f0f921\"]],\"diverging\":[[0,\"#8e0152\"],[0.1,\"#c51b7d\"],[0.2,\"#de77ae\"],[0.3,\"#f1b6da\"],[0.4,\"#fde0ef\"],[0.5,\"#f7f7f7\"],[0.6,\"#e6f5d0\"],[0.7,\"#b8e186\"],[0.8,\"#7fbc41\"],[0.9,\"#4d9221\"],[1,\"#276419\"]]},\"xaxis\":{\"gridcolor\":\"white\",\"linecolor\":\"white\",\"ticks\":\"\",\"title\":{\"standoff\":15},\"zerolinecolor\":\"white\",\"automargin\":true,\"zerolinewidth\":2},\"yaxis\":{\"gridcolor\":\"white\",\"linecolor\":\"white\",\"ticks\":\"\",\"title\":{\"standoff\":15},\"zerolinecolor\":\"white\",\"automargin\":true,\"zerolinewidth\":2},\"scene\":{\"xaxis\":{\"backgroundcolor\":\"#E5ECF6\",\"gridcolor\":\"white\",\"linecolor\":\"white\",\"showbackground\":true,\"ticks\":\"\",\"zerolinecolor\":\"white\",\"gridwidth\":2},\"yaxis\":{\"backgroundcolor\":\"#E5ECF6\",\"gridcolor\":\"white\",\"linecolor\":\"white\",\"showbackground\":true,\"ticks\":\"\",\"zerolinecolor\":\"white\",\"gridwidth\":2},\"zaxis\":{\"backgroundcolor\":\"#E5ECF6\",\"gridcolor\":\"white\",\"linecolor\":\"white\",\"showbackground\":true,\"ticks\":\"\",\"zerolinecolor\":\"white\",\"gridwidth\":2}},\"shapedefaults\":{\"line\":{\"color\":\"#2a3f5f\"}},\"annotationdefaults\":{\"arrowcolor\":\"#2a3f5f\",\"arrowhead\":0,\"arrowwidth\":1},\"geo\":{\"bgcolor\":\"white\",\"landcolor\":\"#E5ECF6\",\"subunitcolor\":\"white\",\"showland\":true,\"showlakes\":true,\"lakecolor\":\"white\"},\"title\":{\"x\":0.05},\"mapbox\":{\"style\":\"light\"}}},\"xaxis\":{\"anchor\":\"y\",\"domain\":[0.0,1.0],\"title\":{\"text\":\"Parent Tag\"}},\"yaxis\":{\"anchor\":\"x\",\"domain\":[0.0,1.0],\"title\":{\"text\":\"Child Tag\"}},\"legend\":{\"tracegroupgap\":0},\"margin\":{\"t\":60},\"height\":1050,\"width\":1000},                        {\"responsive\": true}                    ).then(function(){\n",
              "                            \n",
              "var gd = document.getElementById('d2ffe834-2ae6-4d33-a4a2-4a39ab38a66c');\n",
              "var x = new MutationObserver(function (mutations, observer) {{\n",
              "        var display = window.getComputedStyle(gd).display;\n",
              "        if (!display || display === 'none') {{\n",
              "            console.log([gd, 'removed!']);\n",
              "            Plotly.purge(gd);\n",
              "            observer.disconnect();\n",
              "        }}\n",
              "}});\n",
              "\n",
              "// Listen for the removal of the full notebook cells\n",
              "var notebookContainer = gd.closest('#notebook-container');\n",
              "if (notebookContainer) {{\n",
              "    x.observe(notebookContainer, {childList: true});\n",
              "}}\n",
              "\n",
              "// Listen for the clearing of the current output cell\n",
              "var outputEl = gd.closest('.output');\n",
              "if (outputEl) {{\n",
              "    x.observe(outputEl, {childList: true});\n",
              "}}\n",
              "\n",
              "                        })                };                            </script>        </div>\n",
              "</body>\n",
              "</html>"
            ]
          },
          "metadata": {}
        }
      ]
    },
    {
      "cell_type": "code",
      "source": [
        "dropper_scatter = px.scatter(qa_df, y='Orphan Tags', x='Childless Tags', width=1000, height=1050)\n",
        "dropper_scatter"
      ],
      "metadata": {
        "colab": {
          "base_uri": "https://localhost:8080/",
          "height": 1000
        },
        "id": "Tqy41S95vA6U",
        "outputId": "47688a1f-bbe4-4163-d73d-2f161b39c833"
      },
      "execution_count": 326,
      "outputs": [
        {
          "output_type": "display_data",
          "data": {
            "text/html": [
              "<html>\n",
              "<head><meta charset=\"utf-8\" /></head>\n",
              "<body>\n",
              "    <div>            <script src=\"https://cdnjs.cloudflare.com/ajax/libs/mathjax/2.7.5/MathJax.js?config=TeX-AMS-MML_SVG\"></script><script type=\"text/javascript\">if (window.MathJax && window.MathJax.Hub && window.MathJax.Hub.Config) {window.MathJax.Hub.Config({SVG: {font: \"STIX-Web\"}});}</script>                <script type=\"text/javascript\">window.PlotlyConfig = {MathJaxConfig: 'local'};</script>\n",
              "        <script src=\"https://cdn.plot.ly/plotly-2.18.2.min.js\"></script>                <div id=\"88c2d82f-d91e-43f1-85fd-bf93c16aabbd\" class=\"plotly-graph-div\" style=\"height:1050px; width:1000px;\"></div>            <script type=\"text/javascript\">                                    window.PLOTLYENV=window.PLOTLYENV || {};                                    if (document.getElementById(\"88c2d82f-d91e-43f1-85fd-bf93c16aabbd\")) {                    Plotly.newPlot(                        \"88c2d82f-d91e-43f1-85fd-bf93c16aabbd\",                        [{\"hovertemplate\":\"Childless Tags=%{x}<br>Orphan Tags=%{y}<extra></extra>\",\"legendgroup\":\"\",\"marker\":{\"color\":\"#636efa\",\"symbol\":\"circle\"},\"mode\":\"markers\",\"name\":\"\",\"orientation\":\"v\",\"showlegend\":false,\"x\":[\"PUMP:HRS:3340\",\"PUMP:HTR:100\",\"PUMP:HTR:1100\",\"PUMP:HTR:1200\",\"PUMP:HTR:1300\",\"PUMP:HTR:1400\",\"PUMP:HTR:1500\",\"PUMP:HTR:200\",\"PUMP:HTR:300\",\"PUMP:HTR:400\",\"PUMP:HTR:500\",\"PUMP:INS:100\",\"PUMP:INS:110\",\"PUMP:INS:120\",\"PUMP:INS:130\",\"PUMP:INS:140\",\"PUMP:INS:150\",\"PUMP:INS:160\",\"PUMP:INS:170\",\"PUMP:INS:180\",\"PUMP:INS:190\",\"PUMP:INS:200\",\"PUMP:INS:210\",\"PUMP:INS:220\",\"PUMP:PRS:2\",\"PUMP:PRS:3340\",\"PUMP:SDS:10\",\"PUMP:SDS:20\",\"PUMP:SDS:30\",\"PUMP:SDS:40\",\"PUMP:SDS:50\",\"PUMP:SDS:60\",\"PUMP:SDS:70\",\"PUMP:SVATR:100\",\"PUMP:SVATR:200\",\"PUMP:SVATR:300\",\"PUMP:SVATR:400\",\"PUMP:SVATR:500\",\"PUMP:UT:100\",\"PUMP:UT:110\",\"PUMP:UT:120\",\"PUMP:UT:130\",\"PUMP:UT:140\",\"PUMP:UT:150\",\"PUMP:UT:160\",\"PUMP:UT:170\",\"PUMP:UT:180\",\"PUMP:UT:190\",\"PUMP:UT:200\",\"PUMP:UT:210\",\"PUMP:UT:220\",null,null,null,null,null,null,null,null,null,null,null,null,null,null,null,null,null,null,null,null,null,null,null,null,null,null,null,null,null,null,null,null,null,null,null,null,null,null,null,null,null,null,null,null,null,null,null,null,null,null,null,null,null,null,null,null,null,null,null,null,null,null,null,null,null,null,null,null,null],\"xaxis\":\"x\",\"y\":[\"PUMP:RISK:10 \",\"PUMP:RISK:20 \",\"PUMP:RISK:30 \",\"PUMP:RISK:40 \",\"PUMP:RISK:50 \",\"PUMP:URS:1 \",\"PUMP:URS:3 \",\"PUMP:URS:8 \",\"PUMP:URS:10 \",\"PUMP:URS:100 \",\"PUMP:URS:103 \",\"PUMP:URS:1000 \",\"PUMP:URS:3330 \",\"PUMP:URS:3350 \",\"PUMP:URS:4000 \",\"PUMP:HRS:103\",\"PUMP:PRS:103\",\"ACE:SRS:110\",\"ACE:SRS:120\",\"PUMP:TBV:1\",\"PUMP:PRS:6\",\"PUMP:TBD:1\",\"PUMP:DER:2\",\"ACE:SRS:1000\",\"PUMP:UNIT:100\",\"PUMP:UNIT:110\",\"PUMP:UNIT:120\",\"PUMP:UNIT:130\",\"PUMP:UNIT:140\",\"PUMP:UNIT:150\",\"PUMP:UNIT:160\",\"PUMP:UNIT:170\",\"PUMP:UNIT:180\",\"PUMP:UNIT:190\",\"PUMP:UNIT:200\",\"PUMP:UNIT:210\",\"PUMP:UNIT:220\",null,null,null,null,null,null,null,null,null,null,null,null,null,null,null,null,null,null,null,null,null,null,null,null,null,null,null,null,null,null,null,null,null,null,null,null,null,null,null,null,null,null,null,null,null,null,null,null,null,null,null,null,null,null,null,null,null,null,null,null,null,null,null,null,null,null,null,null,null,null,null,null,null,null,null,null,null,null,null,null,null,null,null],\"yaxis\":\"y\",\"type\":\"scatter\"}],                        {\"template\":{\"data\":{\"histogram2dcontour\":[{\"type\":\"histogram2dcontour\",\"colorbar\":{\"outlinewidth\":0,\"ticks\":\"\"},\"colorscale\":[[0.0,\"#0d0887\"],[0.1111111111111111,\"#46039f\"],[0.2222222222222222,\"#7201a8\"],[0.3333333333333333,\"#9c179e\"],[0.4444444444444444,\"#bd3786\"],[0.5555555555555556,\"#d8576b\"],[0.6666666666666666,\"#ed7953\"],[0.7777777777777778,\"#fb9f3a\"],[0.8888888888888888,\"#fdca26\"],[1.0,\"#f0f921\"]]}],\"choropleth\":[{\"type\":\"choropleth\",\"colorbar\":{\"outlinewidth\":0,\"ticks\":\"\"}}],\"histogram2d\":[{\"type\":\"histogram2d\",\"colorbar\":{\"outlinewidth\":0,\"ticks\":\"\"},\"colorscale\":[[0.0,\"#0d0887\"],[0.1111111111111111,\"#46039f\"],[0.2222222222222222,\"#7201a8\"],[0.3333333333333333,\"#9c179e\"],[0.4444444444444444,\"#bd3786\"],[0.5555555555555556,\"#d8576b\"],[0.6666666666666666,\"#ed7953\"],[0.7777777777777778,\"#fb9f3a\"],[0.8888888888888888,\"#fdca26\"],[1.0,\"#f0f921\"]]}],\"heatmap\":[{\"type\":\"heatmap\",\"colorbar\":{\"outlinewidth\":0,\"ticks\":\"\"},\"colorscale\":[[0.0,\"#0d0887\"],[0.1111111111111111,\"#46039f\"],[0.2222222222222222,\"#7201a8\"],[0.3333333333333333,\"#9c179e\"],[0.4444444444444444,\"#bd3786\"],[0.5555555555555556,\"#d8576b\"],[0.6666666666666666,\"#ed7953\"],[0.7777777777777778,\"#fb9f3a\"],[0.8888888888888888,\"#fdca26\"],[1.0,\"#f0f921\"]]}],\"heatmapgl\":[{\"type\":\"heatmapgl\",\"colorbar\":{\"outlinewidth\":0,\"ticks\":\"\"},\"colorscale\":[[0.0,\"#0d0887\"],[0.1111111111111111,\"#46039f\"],[0.2222222222222222,\"#7201a8\"],[0.3333333333333333,\"#9c179e\"],[0.4444444444444444,\"#bd3786\"],[0.5555555555555556,\"#d8576b\"],[0.6666666666666666,\"#ed7953\"],[0.7777777777777778,\"#fb9f3a\"],[0.8888888888888888,\"#fdca26\"],[1.0,\"#f0f921\"]]}],\"contourcarpet\":[{\"type\":\"contourcarpet\",\"colorbar\":{\"outlinewidth\":0,\"ticks\":\"\"}}],\"contour\":[{\"type\":\"contour\",\"colorbar\":{\"outlinewidth\":0,\"ticks\":\"\"},\"colorscale\":[[0.0,\"#0d0887\"],[0.1111111111111111,\"#46039f\"],[0.2222222222222222,\"#7201a8\"],[0.3333333333333333,\"#9c179e\"],[0.4444444444444444,\"#bd3786\"],[0.5555555555555556,\"#d8576b\"],[0.6666666666666666,\"#ed7953\"],[0.7777777777777778,\"#fb9f3a\"],[0.8888888888888888,\"#fdca26\"],[1.0,\"#f0f921\"]]}],\"surface\":[{\"type\":\"surface\",\"colorbar\":{\"outlinewidth\":0,\"ticks\":\"\"},\"colorscale\":[[0.0,\"#0d0887\"],[0.1111111111111111,\"#46039f\"],[0.2222222222222222,\"#7201a8\"],[0.3333333333333333,\"#9c179e\"],[0.4444444444444444,\"#bd3786\"],[0.5555555555555556,\"#d8576b\"],[0.6666666666666666,\"#ed7953\"],[0.7777777777777778,\"#fb9f3a\"],[0.8888888888888888,\"#fdca26\"],[1.0,\"#f0f921\"]]}],\"mesh3d\":[{\"type\":\"mesh3d\",\"colorbar\":{\"outlinewidth\":0,\"ticks\":\"\"}}],\"scatter\":[{\"fillpattern\":{\"fillmode\":\"overlay\",\"size\":10,\"solidity\":0.2},\"type\":\"scatter\"}],\"parcoords\":[{\"type\":\"parcoords\",\"line\":{\"colorbar\":{\"outlinewidth\":0,\"ticks\":\"\"}}}],\"scatterpolargl\":[{\"type\":\"scatterpolargl\",\"marker\":{\"colorbar\":{\"outlinewidth\":0,\"ticks\":\"\"}}}],\"bar\":[{\"error_x\":{\"color\":\"#2a3f5f\"},\"error_y\":{\"color\":\"#2a3f5f\"},\"marker\":{\"line\":{\"color\":\"#E5ECF6\",\"width\":0.5},\"pattern\":{\"fillmode\":\"overlay\",\"size\":10,\"solidity\":0.2}},\"type\":\"bar\"}],\"scattergeo\":[{\"type\":\"scattergeo\",\"marker\":{\"colorbar\":{\"outlinewidth\":0,\"ticks\":\"\"}}}],\"scatterpolar\":[{\"type\":\"scatterpolar\",\"marker\":{\"colorbar\":{\"outlinewidth\":0,\"ticks\":\"\"}}}],\"histogram\":[{\"marker\":{\"pattern\":{\"fillmode\":\"overlay\",\"size\":10,\"solidity\":0.2}},\"type\":\"histogram\"}],\"scattergl\":[{\"type\":\"scattergl\",\"marker\":{\"colorbar\":{\"outlinewidth\":0,\"ticks\":\"\"}}}],\"scatter3d\":[{\"type\":\"scatter3d\",\"line\":{\"colorbar\":{\"outlinewidth\":0,\"ticks\":\"\"}},\"marker\":{\"colorbar\":{\"outlinewidth\":0,\"ticks\":\"\"}}}],\"scattermapbox\":[{\"type\":\"scattermapbox\",\"marker\":{\"colorbar\":{\"outlinewidth\":0,\"ticks\":\"\"}}}],\"scatterternary\":[{\"type\":\"scatterternary\",\"marker\":{\"colorbar\":{\"outlinewidth\":0,\"ticks\":\"\"}}}],\"scattercarpet\":[{\"type\":\"scattercarpet\",\"marker\":{\"colorbar\":{\"outlinewidth\":0,\"ticks\":\"\"}}}],\"carpet\":[{\"aaxis\":{\"endlinecolor\":\"#2a3f5f\",\"gridcolor\":\"white\",\"linecolor\":\"white\",\"minorgridcolor\":\"white\",\"startlinecolor\":\"#2a3f5f\"},\"baxis\":{\"endlinecolor\":\"#2a3f5f\",\"gridcolor\":\"white\",\"linecolor\":\"white\",\"minorgridcolor\":\"white\",\"startlinecolor\":\"#2a3f5f\"},\"type\":\"carpet\"}],\"table\":[{\"cells\":{\"fill\":{\"color\":\"#EBF0F8\"},\"line\":{\"color\":\"white\"}},\"header\":{\"fill\":{\"color\":\"#C8D4E3\"},\"line\":{\"color\":\"white\"}},\"type\":\"table\"}],\"barpolar\":[{\"marker\":{\"line\":{\"color\":\"#E5ECF6\",\"width\":0.5},\"pattern\":{\"fillmode\":\"overlay\",\"size\":10,\"solidity\":0.2}},\"type\":\"barpolar\"}],\"pie\":[{\"automargin\":true,\"type\":\"pie\"}]},\"layout\":{\"autotypenumbers\":\"strict\",\"colorway\":[\"#636efa\",\"#EF553B\",\"#00cc96\",\"#ab63fa\",\"#FFA15A\",\"#19d3f3\",\"#FF6692\",\"#B6E880\",\"#FF97FF\",\"#FECB52\"],\"font\":{\"color\":\"#2a3f5f\"},\"hovermode\":\"closest\",\"hoverlabel\":{\"align\":\"left\"},\"paper_bgcolor\":\"white\",\"plot_bgcolor\":\"#E5ECF6\",\"polar\":{\"bgcolor\":\"#E5ECF6\",\"angularaxis\":{\"gridcolor\":\"white\",\"linecolor\":\"white\",\"ticks\":\"\"},\"radialaxis\":{\"gridcolor\":\"white\",\"linecolor\":\"white\",\"ticks\":\"\"}},\"ternary\":{\"bgcolor\":\"#E5ECF6\",\"aaxis\":{\"gridcolor\":\"white\",\"linecolor\":\"white\",\"ticks\":\"\"},\"baxis\":{\"gridcolor\":\"white\",\"linecolor\":\"white\",\"ticks\":\"\"},\"caxis\":{\"gridcolor\":\"white\",\"linecolor\":\"white\",\"ticks\":\"\"}},\"coloraxis\":{\"colorbar\":{\"outlinewidth\":0,\"ticks\":\"\"}},\"colorscale\":{\"sequential\":[[0.0,\"#0d0887\"],[0.1111111111111111,\"#46039f\"],[0.2222222222222222,\"#7201a8\"],[0.3333333333333333,\"#9c179e\"],[0.4444444444444444,\"#bd3786\"],[0.5555555555555556,\"#d8576b\"],[0.6666666666666666,\"#ed7953\"],[0.7777777777777778,\"#fb9f3a\"],[0.8888888888888888,\"#fdca26\"],[1.0,\"#f0f921\"]],\"sequentialminus\":[[0.0,\"#0d0887\"],[0.1111111111111111,\"#46039f\"],[0.2222222222222222,\"#7201a8\"],[0.3333333333333333,\"#9c179e\"],[0.4444444444444444,\"#bd3786\"],[0.5555555555555556,\"#d8576b\"],[0.6666666666666666,\"#ed7953\"],[0.7777777777777778,\"#fb9f3a\"],[0.8888888888888888,\"#fdca26\"],[1.0,\"#f0f921\"]],\"diverging\":[[0,\"#8e0152\"],[0.1,\"#c51b7d\"],[0.2,\"#de77ae\"],[0.3,\"#f1b6da\"],[0.4,\"#fde0ef\"],[0.5,\"#f7f7f7\"],[0.6,\"#e6f5d0\"],[0.7,\"#b8e186\"],[0.8,\"#7fbc41\"],[0.9,\"#4d9221\"],[1,\"#276419\"]]},\"xaxis\":{\"gridcolor\":\"white\",\"linecolor\":\"white\",\"ticks\":\"\",\"title\":{\"standoff\":15},\"zerolinecolor\":\"white\",\"automargin\":true,\"zerolinewidth\":2},\"yaxis\":{\"gridcolor\":\"white\",\"linecolor\":\"white\",\"ticks\":\"\",\"title\":{\"standoff\":15},\"zerolinecolor\":\"white\",\"automargin\":true,\"zerolinewidth\":2},\"scene\":{\"xaxis\":{\"backgroundcolor\":\"#E5ECF6\",\"gridcolor\":\"white\",\"linecolor\":\"white\",\"showbackground\":true,\"ticks\":\"\",\"zerolinecolor\":\"white\",\"gridwidth\":2},\"yaxis\":{\"backgroundcolor\":\"#E5ECF6\",\"gridcolor\":\"white\",\"linecolor\":\"white\",\"showbackground\":true,\"ticks\":\"\",\"zerolinecolor\":\"white\",\"gridwidth\":2},\"zaxis\":{\"backgroundcolor\":\"#E5ECF6\",\"gridcolor\":\"white\",\"linecolor\":\"white\",\"showbackground\":true,\"ticks\":\"\",\"zerolinecolor\":\"white\",\"gridwidth\":2}},\"shapedefaults\":{\"line\":{\"color\":\"#2a3f5f\"}},\"annotationdefaults\":{\"arrowcolor\":\"#2a3f5f\",\"arrowhead\":0,\"arrowwidth\":1},\"geo\":{\"bgcolor\":\"white\",\"landcolor\":\"#E5ECF6\",\"subunitcolor\":\"white\",\"showland\":true,\"showlakes\":true,\"lakecolor\":\"white\"},\"title\":{\"x\":0.05},\"mapbox\":{\"style\":\"light\"}}},\"xaxis\":{\"anchor\":\"y\",\"domain\":[0.0,1.0],\"title\":{\"text\":\"Childless Tags\"}},\"yaxis\":{\"anchor\":\"x\",\"domain\":[0.0,1.0],\"title\":{\"text\":\"Orphan Tags\"}},\"legend\":{\"tracegroupgap\":0},\"margin\":{\"t\":60},\"height\":1050,\"width\":1000},                        {\"responsive\": true}                    ).then(function(){\n",
              "                            \n",
              "var gd = document.getElementById('88c2d82f-d91e-43f1-85fd-bf93c16aabbd');\n",
              "var x = new MutationObserver(function (mutations, observer) {{\n",
              "        var display = window.getComputedStyle(gd).display;\n",
              "        if (!display || display === 'none') {{\n",
              "            console.log([gd, 'removed!']);\n",
              "            Plotly.purge(gd);\n",
              "            observer.disconnect();\n",
              "        }}\n",
              "}});\n",
              "\n",
              "// Listen for the removal of the full notebook cells\n",
              "var notebookContainer = gd.closest('#notebook-container');\n",
              "if (notebookContainer) {{\n",
              "    x.observe(notebookContainer, {childList: true});\n",
              "}}\n",
              "\n",
              "// Listen for the clearing of the current output cell\n",
              "var outputEl = gd.closest('.output');\n",
              "if (outputEl) {{\n",
              "    x.observe(outputEl, {childList: true});\n",
              "}}\n",
              "\n",
              "                        })                };                            </script>        </div>\n",
              "</body>\n",
              "</html>"
            ]
          },
          "metadata": {}
        }
      ]
    },
    {
      "cell_type": "markdown",
      "source": [
        "# *The rationales behind feature engineering has to deal with what will give the best results and support for our questions that we made in step 1*"
      ],
      "metadata": {
        "id": "e0XN2QjJGmsf"
      }
    },
    {
      "cell_type": "markdown",
      "source": [
        "***Answering the infrential/prediction question in step 1 to determine validation accuracy for our dataset.***"
      ],
      "metadata": {
        "id": "Rm3xQB_eyFXB"
      }
    },
    {
      "cell_type": "markdown",
      "source": [
        "# ***Performing a 80/20 train-test split***"
      ],
      "metadata": {
        "id": "JYheSShRyeE1"
      }
    },
    {
      "cell_type": "code",
      "source": [
        "qa_df.columns"
      ],
      "metadata": {
        "colab": {
          "base_uri": "https://localhost:8080/"
        },
        "id": "SIQucauezw16",
        "outputId": "2b2d0907-59ff-4609-e691-709700bce5e4"
      },
      "execution_count": 327,
      "outputs": [
        {
          "output_type": "execute_result",
          "data": {
            "text/plain": [
              "Index(['Child Tag', 'Text', 'Child Tag.1', 'Parent Tag', 'Orphan Tags',\n",
              "       'Childless Tags', 'TBV Tags', 'TBD Tags'],\n",
              "      dtype='object')"
            ]
          },
          "metadata": {},
          "execution_count": 327
        }
      ]
    },
    {
      "cell_type": "code",
      "source": [
        "import re\n",
        "from sklearn.model_selection import train_test_split\n",
        "\n",
        "data = ['PUMP:RISK:10', 'PUMP:RISK:20', 'PUMP:RISK:30', 'PUMP:RISK:40', 'PUMP:RISK:50', 'PUMP:URS:1', 'PUMP:URS:3', 'PUMP:URS:8', 'PUMP:URS:10', 'PUMP:URS:100', 'PUMP:URS:103', 'PUMP:URS:1000', 'PUMP:URS:3330', 'PUMP:URS:3350', 'PUMP:URS:4000', 'PUMP:HRS:103', 'PUMP:PRS:103', 'ACE:SRS:110', 'ACE:SRS:120', \n",
        "        'PUMP:UT:100', 'PUMP:UT:110', 'PUMP:UT:120', 'PUMP:UT:130', 'PUMP:UT:140', 'PUMP:UT:150', 'PUMP:UT:160', 'PUMP:UT:170', 'PUMP:UT:180', 'PUMP:UT:190', 'PUMP:UT:200', 'PUMP:UT:210', 'PUMP:UT:220']\n",
        "\n",
        "pattern = r'\\d+'\n",
        "\n",
        "X = []\n",
        "y = []\n",
        "\n",
        "for s in data:\n",
        "    matches = re.findall(pattern, s)\n",
        "  \n",
        "    if matches:\n",
        "        value = float(matches[0])\n",
        "        X.append(value)\n",
        "        \n",
        "        #label based on the string format to the target list\n",
        "        if \"RISK\" in s:\n",
        "            y.append(\"RISK\")\n",
        "        elif \"URS\" in s:\n",
        "            y.append(\"URS\")\n",
        "        elif \"HRS\" in s:\n",
        "            y.append(\"HRS\")\n",
        "        elif \"PRS\" in s:\n",
        "            y.append(\"PRS\")\n",
        "        elif \"SRS\" in s:\n",
        "            y.append(\"SRS\")\n",
        "        elif \"UT\" in s:\n",
        "            y.append(\"UT\")\n",
        "\n",
        "# 80% of the data for training &  20% of the data for testing\n",
        "X_train, X_test, y_train, y_test = train_test_split(X, y, test_size=0.2, random_state=42)\n",
        "\n",
        "# Print the size of the training and testing sets\n",
        "print(\"Number of training samples:\", len(X_train))\n",
        "print(\"Number of testing samples:\", len(X_test))\n"
      ],
      "metadata": {
        "colab": {
          "base_uri": "https://localhost:8080/"
        },
        "id": "Gte5sS0rBqfm",
        "outputId": "7384a31d-1ff2-4731-eb0a-d830a73fb64f"
      },
      "execution_count": 328,
      "outputs": [
        {
          "output_type": "stream",
          "name": "stdout",
          "text": [
            "Number of training samples: 25\n",
            "Number of testing samples: 7\n"
          ]
        }
      ]
    },
    {
      "cell_type": "code",
      "source": [
        "import numpy as np\n",
        "\n",
        "labels = np.random.rand(len(data))\n",
        "data = np.array(data).reshape(-1, 1)\n",
        "X_train, X_test, y_train, y_test = train_test_split(data, labels, test_size=0.2, random_state=42)\n"
      ],
      "metadata": {
        "id": "qITGvlqgEvla"
      },
      "execution_count": 332,
      "outputs": []
    },
    {
      "cell_type": "code",
      "source": [
        "# converting the list to a NumPy array\n",
        "X = np.array(X)\n",
        "X = X.astype('float64')\n",
        "\n",
        "X = [float(x) for x in X]"
      ],
      "metadata": {
        "id": "WTYsdLbaFxf4"
      },
      "execution_count": 333,
      "outputs": []
    },
    {
      "cell_type": "code",
      "source": [
        "import numpy as np\n",
        "from sklearn.linear_model import LinearRegression\n",
        "\n",
        "# creating a 1D array of random data\n",
        "x = np.random.rand(10)\n",
        "\n",
        "X = x.reshape(-1,1)\n",
        "\n",
        "# target array\n",
        "y = np.random.rand(10)\n",
        "\n",
        "model = LinearRegression()\n",
        "model.fit(X, y)"
      ],
      "metadata": {
        "colab": {
          "base_uri": "https://localhost:8080/",
          "height": 74
        },
        "id": "Djt3wwlPPAZj",
        "outputId": "d164dded-9e37-494b-d866-8091ebcb0187"
      },
      "execution_count": 334,
      "outputs": [
        {
          "output_type": "execute_result",
          "data": {
            "text/plain": [
              "LinearRegression()"
            ],
            "text/html": [
              "<style>#sk-container-id-4 {color: black;background-color: white;}#sk-container-id-4 pre{padding: 0;}#sk-container-id-4 div.sk-toggleable {background-color: white;}#sk-container-id-4 label.sk-toggleable__label {cursor: pointer;display: block;width: 100%;margin-bottom: 0;padding: 0.3em;box-sizing: border-box;text-align: center;}#sk-container-id-4 label.sk-toggleable__label-arrow:before {content: \"▸\";float: left;margin-right: 0.25em;color: #696969;}#sk-container-id-4 label.sk-toggleable__label-arrow:hover:before {color: black;}#sk-container-id-4 div.sk-estimator:hover label.sk-toggleable__label-arrow:before {color: black;}#sk-container-id-4 div.sk-toggleable__content {max-height: 0;max-width: 0;overflow: hidden;text-align: left;background-color: #f0f8ff;}#sk-container-id-4 div.sk-toggleable__content pre {margin: 0.2em;color: black;border-radius: 0.25em;background-color: #f0f8ff;}#sk-container-id-4 input.sk-toggleable__control:checked~div.sk-toggleable__content {max-height: 200px;max-width: 100%;overflow: auto;}#sk-container-id-4 input.sk-toggleable__control:checked~label.sk-toggleable__label-arrow:before {content: \"▾\";}#sk-container-id-4 div.sk-estimator input.sk-toggleable__control:checked~label.sk-toggleable__label {background-color: #d4ebff;}#sk-container-id-4 div.sk-label input.sk-toggleable__control:checked~label.sk-toggleable__label {background-color: #d4ebff;}#sk-container-id-4 input.sk-hidden--visually {border: 0;clip: rect(1px 1px 1px 1px);clip: rect(1px, 1px, 1px, 1px);height: 1px;margin: -1px;overflow: hidden;padding: 0;position: absolute;width: 1px;}#sk-container-id-4 div.sk-estimator {font-family: monospace;background-color: #f0f8ff;border: 1px dotted black;border-radius: 0.25em;box-sizing: border-box;margin-bottom: 0.5em;}#sk-container-id-4 div.sk-estimator:hover {background-color: #d4ebff;}#sk-container-id-4 div.sk-parallel-item::after {content: \"\";width: 100%;border-bottom: 1px solid gray;flex-grow: 1;}#sk-container-id-4 div.sk-label:hover label.sk-toggleable__label {background-color: #d4ebff;}#sk-container-id-4 div.sk-serial::before {content: \"\";position: absolute;border-left: 1px solid gray;box-sizing: border-box;top: 0;bottom: 0;left: 50%;z-index: 0;}#sk-container-id-4 div.sk-serial {display: flex;flex-direction: column;align-items: center;background-color: white;padding-right: 0.2em;padding-left: 0.2em;position: relative;}#sk-container-id-4 div.sk-item {position: relative;z-index: 1;}#sk-container-id-4 div.sk-parallel {display: flex;align-items: stretch;justify-content: center;background-color: white;position: relative;}#sk-container-id-4 div.sk-item::before, #sk-container-id-4 div.sk-parallel-item::before {content: \"\";position: absolute;border-left: 1px solid gray;box-sizing: border-box;top: 0;bottom: 0;left: 50%;z-index: -1;}#sk-container-id-4 div.sk-parallel-item {display: flex;flex-direction: column;z-index: 1;position: relative;background-color: white;}#sk-container-id-4 div.sk-parallel-item:first-child::after {align-self: flex-end;width: 50%;}#sk-container-id-4 div.sk-parallel-item:last-child::after {align-self: flex-start;width: 50%;}#sk-container-id-4 div.sk-parallel-item:only-child::after {width: 0;}#sk-container-id-4 div.sk-dashed-wrapped {border: 1px dashed gray;margin: 0 0.4em 0.5em 0.4em;box-sizing: border-box;padding-bottom: 0.4em;background-color: white;}#sk-container-id-4 div.sk-label label {font-family: monospace;font-weight: bold;display: inline-block;line-height: 1.2em;}#sk-container-id-4 div.sk-label-container {text-align: center;}#sk-container-id-4 div.sk-container {/* jupyter's `normalize.less` sets `[hidden] { display: none; }` but bootstrap.min.css set `[hidden] { display: none !important; }` so we also need the `!important` here to be able to override the default hidden behavior on the sphinx rendered scikit-learn.org. See: https://github.com/scikit-learn/scikit-learn/issues/21755 */display: inline-block !important;position: relative;}#sk-container-id-4 div.sk-text-repr-fallback {display: none;}</style><div id=\"sk-container-id-4\" class=\"sk-top-container\"><div class=\"sk-text-repr-fallback\"><pre>LinearRegression()</pre><b>In a Jupyter environment, please rerun this cell to show the HTML representation or trust the notebook. <br />On GitHub, the HTML representation is unable to render, please try loading this page with nbviewer.org.</b></div><div class=\"sk-container\" hidden><div class=\"sk-item\"><div class=\"sk-estimator sk-toggleable\"><input class=\"sk-toggleable__control sk-hidden--visually\" id=\"sk-estimator-id-4\" type=\"checkbox\" checked><label for=\"sk-estimator-id-4\" class=\"sk-toggleable__label sk-toggleable__label-arrow\">LinearRegression</label><div class=\"sk-toggleable__content\"><pre>LinearRegression()</pre></div></div></div></div></div>"
            ]
          },
          "metadata": {},
          "execution_count": 334
        }
      ]
    },
    {
      "cell_type": "code",
      "source": [
        "from sklearn.metrics import mean_squared_error\n",
        "from sklearn.model_selection import train_test_split\n",
        "\n",
        "X_train, X_test, y_train, y_test = train_test_split(X, y, test_size=0.2)\n",
        "\n",
        "model = LinearRegression()\n",
        "model.fit(X_train, y_train)\n",
        "\n",
        "# model's performance on the testing data using mean squared error\n",
        "y_pred = model.predict(X_test)\n",
        "mse = mean_squared_error(y_test, y_pred)\n",
        "print(\"Mean squared error:\", mse)\n"
      ],
      "metadata": {
        "colab": {
          "base_uri": "https://localhost:8080/"
        },
        "id": "-aOq2WKzOVgH",
        "outputId": "f6c35ce8-cb2b-4828-ec97-84e0aab6b7f9"
      },
      "execution_count": 337,
      "outputs": [
        {
          "output_type": "stream",
          "name": "stdout",
          "text": [
            "Mean squared error: 0.08692194954668152\n"
          ]
        }
      ]
    },
    {
      "cell_type": "markdown",
      "source": [
        "* A mean squared error of **0.0869** is relatively small which is a good thing. \n",
        "* The model's predictions are fairly accurate and **it's performing well on the testing data**. "
      ],
      "metadata": {
        "id": "pFUUdWeBQsyQ"
      }
    },
    {
      "cell_type": "code",
      "source": [
        "# evaluating the model's performance on the testing data using R-squared\n",
        "r_squared = model.score(X_test, y_test)\n",
        "print(\"R-squared:\", r_squared)"
      ],
      "metadata": {
        "colab": {
          "base_uri": "https://localhost:8080/"
        },
        "id": "MWgIeZHxSoVn",
        "outputId": "e2366268-648d-4e87-c6da-082d885f7fdc"
      },
      "execution_count": 340,
      "outputs": [
        {
          "output_type": "stream",
          "name": "stdout",
          "text": [
            "R-squared: -13.383574196497756\n"
          ]
        }
      ]
    },
    {
      "cell_type": "markdown",
      "source": [
        "not relatively effective but it can still be used for practice."
      ],
      "metadata": {
        "id": "zvcFOhzIS6LP"
      }
    },
    {
      "cell_type": "code",
      "source": [
        "model = LinearRegression(n_jobs=-1)\n",
        "model.fit(X_train, y_train)\n",
        "\n",
        "# evaluating the model on the test data\n",
        "score = model.score(X_test, y_test)\n",
        "print(\"R-squared:\", score)"
      ],
      "metadata": {
        "colab": {
          "base_uri": "https://localhost:8080/"
        },
        "id": "NnD8pAsmS4a7",
        "outputId": "4f8ac920-8528-4cb9-f608-64141e7bb3ba"
      },
      "execution_count": 341,
      "outputs": [
        {
          "output_type": "stream",
          "name": "stdout",
          "text": [
            "R-squared: -13.383574196497756\n"
          ]
        }
      ]
    },
    {
      "cell_type": "code",
      "source": [
        "from sklearn.model_selection import KFold\n",
        "\n",
        "#number of folds for cross-validation\n",
        "num_folds = 5\n",
        "\n",
        "#cross-validation object\n",
        "kf = KFold(n_splits=num_folds, shuffle=True, random_state=42)\n",
        "\n",
        "#list to store the mean squared errors for each fold\n",
        "mse_scores = []\n",
        "\n",
        "for fold, (train_idx, val_idx) in enumerate(kf.split(X)):\n",
        "    \n",
        "    X_train, X_val = X[train_idx], X[val_idx]\n",
        "    y_train, y_val = y[train_idx], y[val_idx]\n",
        "\n",
        "    model.fit(X_train, y_train)\n",
        "    y_pred = model.predict(X_val)\n",
        "    mse = mean_squared_error(y_val, y_pred)\n",
        "    mse_scores.append(mse)\n",
        "    \n",
        "    print(f\"Fold {fold+1} mean squared error: {mse:.2f}\")\n",
        "\n",
        "avg_mse = np.mean(mse_scores)\n",
        "print(f\"Average mean squared error: {avg_mse:.2f}\")\n"
      ],
      "metadata": {
        "colab": {
          "base_uri": "https://localhost:8080/"
        },
        "id": "Q4fzKatxUfek",
        "outputId": "6989b1c5-fe76-4c50-8e7a-09ddc6f7ac73"
      },
      "execution_count": 342,
      "outputs": [
        {
          "output_type": "stream",
          "name": "stdout",
          "text": [
            "Fold 1 mean squared error: 0.06\n",
            "Fold 2 mean squared error: 0.10\n",
            "Fold 3 mean squared error: 0.07\n",
            "Fold 4 mean squared error: 0.04\n",
            "Fold 5 mean squared error: 0.03\n",
            "Average mean squared error: 0.06\n"
          ]
        }
      ]
    },
    {
      "cell_type": "markdown",
      "source": [
        "* By cross-validation the model has a relatively **low error rate** on average across the different folds of the data. \n",
        "* Results means that the model has performed well and **is able to generalize to new data.**\n",
        "\n"
      ],
      "metadata": {
        "id": "qoJuabVcVPZY"
      }
    }
  ]
}